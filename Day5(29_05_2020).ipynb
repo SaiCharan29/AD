{
  "nbformat": 4,
  "nbformat_minor": 0,
  "metadata": {
    "colab": {
      "name": "Day5(29-05-2020)",
      "provenance": []
    },
    "kernelspec": {
      "name": "python3",
      "display_name": "Python 3"
    }
  },
  "cells": [
    {
      "cell_type": "code",
      "metadata": {
        "id": "-ifTvo7JljDy",
        "colab_type": "code",
        "colab": {
          "base_uri": "https://localhost:8080/",
          "height": 84
        },
        "outputId": "a05d87f4-2bcc-485f-90a3-e2288ac6d5ed"
      },
      "source": [
        "for i in range(1,10):\n",
        "  if(i%5==0):\n",
        "    break\n",
        "  else:\n",
        "    print(i)"
      ],
      "execution_count": 4,
      "outputs": [
        {
          "output_type": "stream",
          "text": [
            "1\n",
            "2\n",
            "3\n",
            "4\n"
          ],
          "name": "stdout"
        }
      ]
    },
    {
      "cell_type": "code",
      "metadata": {
        "id": "FBnT_NDqmtSX",
        "colab_type": "code",
        "colab": {
          "base_uri": "https://localhost:8080/",
          "height": 151
        },
        "outputId": "815603ca-86dd-4560-955d-e8accea81ba4"
      },
      "source": [
        "for i in range(1,10):\n",
        "  if(i%5==0):\n",
        "    continue\n",
        "  else:\n",
        "    print(i)"
      ],
      "execution_count": 5,
      "outputs": [
        {
          "output_type": "stream",
          "text": [
            "1\n",
            "2\n",
            "3\n",
            "4\n",
            "6\n",
            "7\n",
            "8\n",
            "9\n"
          ],
          "name": "stdout"
        }
      ]
    },
    {
      "cell_type": "code",
      "metadata": {
        "id": "qvGnmz9knOJF",
        "colab_type": "code",
        "colab": {
          "base_uri": "https://localhost:8080/",
          "height": 134
        },
        "outputId": "e046d602-2a80-4080-fd4f-0c32cb77e818"
      },
      "source": [
        "users=\"Charan\"\n",
        "pwds=\"sai123\"\n",
        "while(1):\n",
        "  user=input(\"Username:\")\n",
        "  pwd=input(\"Password:\")\n",
        "  if(user==users and pwd==pwds):\n",
        "    print(\"Login successful\",user,\"!!\")\n",
        "    break"
      ],
      "execution_count": 11,
      "outputs": [
        {
          "output_type": "stream",
          "text": [
            "Username:Charan\n",
            "Password:sai123@\n",
            "Username:charan\n",
            "Password:sai123\n",
            "Username:Charan\n",
            "Password:sai123\n",
            "Login successful Charan !!\n"
          ],
          "name": "stdout"
        }
      ]
    },
    {
      "cell_type": "code",
      "metadata": {
        "id": "ziQq9abgool0",
        "colab_type": "code",
        "colab": {}
      },
      "source": [
        "if(3<89):\n",
        "  pass\n",
        "else:\n",
        "  print(\"Hello\")"
      ],
      "execution_count": 0,
      "outputs": []
    },
    {
      "cell_type": "code",
      "metadata": {
        "id": "pupA6DCprMva",
        "colab_type": "code",
        "colab": {
          "base_uri": "https://localhost:8080/",
          "height": 50
        },
        "outputId": "fb36d802-95de-42c2-c33e-76cbcb4c814d"
      },
      "source": [
        "def square(x):\n",
        "  return x*x\n",
        "i=int(input())\n",
        "print(\"Square of\",i,\"is\",square(i))"
      ],
      "execution_count": 15,
      "outputs": [
        {
          "output_type": "stream",
          "text": [
            "5\n",
            "Square of 5 is 25\n"
          ],
          "name": "stdout"
        }
      ]
    },
    {
      "cell_type": "code",
      "metadata": {
        "id": "Ehbe0quhsmUU",
        "colab_type": "code",
        "colab": {
          "base_uri": "https://localhost:8080/",
          "height": 34
        },
        "outputId": "8ad9d04e-c9fa-4544-a921-0b4ff80f7d06"
      },
      "source": [
        "li=[13,12,33,12]\n",
        "print(max(li),min(li),len(li))"
      ],
      "execution_count": 16,
      "outputs": [
        {
          "output_type": "stream",
          "text": [
            "33 12 4\n"
          ],
          "name": "stdout"
        }
      ]
    },
    {
      "cell_type": "code",
      "metadata": {
        "id": "2Bf6pzkTtBkC",
        "colab_type": "code",
        "colab": {
          "base_uri": "https://localhost:8080/",
          "height": 34
        },
        "outputId": "d17bf509-64b0-4c7b-fe8f-3bfefa617cba"
      },
      "source": [
        "def fun(x):\n",
        "  print(\"hi\",x)\n",
        "fun(\"sai\")"
      ],
      "execution_count": 18,
      "outputs": [
        {
          "output_type": "stream",
          "text": [
            "hi sai\n"
          ],
          "name": "stdout"
        }
      ]
    },
    {
      "cell_type": "code",
      "metadata": {
        "id": "_YQd_sQ9t8b9",
        "colab_type": "code",
        "colab": {
          "base_uri": "https://localhost:8080/",
          "height": 34
        },
        "outputId": "cbf88494-bf10-4356-b50e-5e3e5cd0a3f3"
      },
      "source": [
        "def calc(x,y):\n",
        "  return x+y,x-y,x*y,x/y\n",
        "add,sub,mul,div=calc(10,5)\n",
        "print(add,sub,mul,div,sep=\",\")"
      ],
      "execution_count": 20,
      "outputs": [
        {
          "output_type": "stream",
          "text": [
            "15,5,50,2.0\n"
          ],
          "name": "stdout"
        }
      ]
    },
    {
      "cell_type": "code",
      "metadata": {
        "id": "AER06J0Sww2X",
        "colab_type": "code",
        "colab": {
          "base_uri": "https://localhost:8080/",
          "height": 34
        },
        "outputId": "d32596f1-8534-46a6-f297-c00e14fed228"
      },
      "source": [
        "def add(a,b=23):\n",
        "  return a+b\n",
        "add(56)"
      ],
      "execution_count": 21,
      "outputs": [
        {
          "output_type": "execute_result",
          "data": {
            "text/plain": [
              "79"
            ]
          },
          "metadata": {
            "tags": []
          },
          "execution_count": 21
        }
      ]
    },
    {
      "cell_type": "code",
      "metadata": {
        "id": "KLlMC5AvzQFo",
        "colab_type": "code",
        "colab": {
          "base_uri": "https://localhost:8080/",
          "height": 34
        },
        "outputId": "db6d032c-1ae2-4ed0-d777-d6e835a3897a"
      },
      "source": [
        "add(23,43)"
      ],
      "execution_count": 22,
      "outputs": [
        {
          "output_type": "execute_result",
          "data": {
            "text/plain": [
              "66"
            ]
          },
          "metadata": {
            "tags": []
          },
          "execution_count": 22
        }
      ]
    },
    {
      "cell_type": "code",
      "metadata": {
        "id": "3w39_6vfzqfv",
        "colab_type": "code",
        "colab": {
          "base_uri": "https://localhost:8080/",
          "height": 34
        },
        "outputId": "5d16712d-d57e-4e02-a525-e8ca66d406a3"
      },
      "source": [
        "add(a=23,b=56)"
      ],
      "execution_count": 23,
      "outputs": [
        {
          "output_type": "execute_result",
          "data": {
            "text/plain": [
              "79"
            ]
          },
          "metadata": {
            "tags": []
          },
          "execution_count": 23
        }
      ]
    },
    {
      "cell_type": "code",
      "metadata": {
        "id": "QbW7Ngic1GWF",
        "colab_type": "code",
        "colab": {
          "base_uri": "https://localhost:8080/",
          "height": 67
        },
        "outputId": "9bc3c4db-359a-4ce8-d309-194c040652b4"
      },
      "source": [
        "add(a=int(input()),b=int(input()))"
      ],
      "execution_count": 24,
      "outputs": [
        {
          "output_type": "stream",
          "text": [
            "45\n",
            "78\n"
          ],
          "name": "stdout"
        },
        {
          "output_type": "execute_result",
          "data": {
            "text/plain": [
              "123"
            ]
          },
          "metadata": {
            "tags": []
          },
          "execution_count": 24
        }
      ]
    },
    {
      "cell_type": "code",
      "metadata": {
        "id": "CmlH0aQp1ahQ",
        "colab_type": "code",
        "colab": {
          "base_uri": "https://localhost:8080/",
          "height": 67
        },
        "outputId": "da9d795b-bd7f-4fbf-d94c-b1b8dad1adbc"
      },
      "source": [
        "def add(*a):\n",
        "  return sum(a)\n",
        "print(add(1,2))\n",
        "print(add(11,23,44))\n",
        "print(add(11,23,45,66))"
      ],
      "execution_count": 28,
      "outputs": [
        {
          "output_type": "stream",
          "text": [
            "3\n",
            "78\n",
            "145\n"
          ],
          "name": "stdout"
        }
      ]
    },
    {
      "cell_type": "code",
      "metadata": {
        "id": "_3OxENOG51xo",
        "colab_type": "code",
        "colab": {
          "base_uri": "https://localhost:8080/",
          "height": 67
        },
        "outputId": "c7ed14bf-7abd-4fde-fe72-94b48a5cba44"
      },
      "source": [
        "def prod(*a):\n",
        "  p=1\n",
        "  for i in a:\n",
        "    p*=i\n",
        "  return p\n",
        "print(prod(1,2))\n",
        "print(prod(11,23,44))\n",
        "print(prod(11,23,45,66))"
      ],
      "execution_count": 27,
      "outputs": [
        {
          "output_type": "stream",
          "text": [
            "2\n",
            "11132\n",
            "751410\n"
          ],
          "name": "stdout"
        }
      ]
    },
    {
      "cell_type": "code",
      "metadata": {
        "id": "mx5mYadI67IH",
        "colab_type": "code",
        "colab": {
          "base_uri": "https://localhost:8080/",
          "height": 34
        },
        "outputId": "51a09c9c-170f-4952-c76a-7f1c4f16a974"
      },
      "source": [
        "def m(a,b,c):\n",
        "  return prod(add(a,b),c)\n",
        "m(1,3,9)"
      ],
      "execution_count": 31,
      "outputs": [
        {
          "output_type": "execute_result",
          "data": {
            "text/plain": [
              "36"
            ]
          },
          "metadata": {
            "tags": []
          },
          "execution_count": 31
        }
      ]
    },
    {
      "cell_type": "code",
      "metadata": {
        "id": "KQkiaIan7SCg",
        "colab_type": "code",
        "colab": {
          "base_uri": "https://localhost:8080/",
          "height": 34
        },
        "outputId": "84c5547c-b5ff-416a-adc2-833baf6d2e1e"
      },
      "source": [
        "def fact(n):\n",
        "  if(n==1 or n==0):\n",
        "    return 1\n",
        "  else:\n",
        "    return n*fact(n-1)\n",
        "print(fact(4))"
      ],
      "execution_count": 35,
      "outputs": [
        {
          "output_type": "stream",
          "text": [
            "24\n"
          ],
          "name": "stdout"
        }
      ]
    },
    {
      "cell_type": "code",
      "metadata": {
        "id": "Cr7xqLAW-PTF",
        "colab_type": "code",
        "colab": {
          "base_uri": "https://localhost:8080/",
          "height": 34
        },
        "outputId": "5a981d1a-b1cb-426f-c349-b052ae26202c"
      },
      "source": [
        "li=[1,2,3.4,\"list\"]\n",
        "type(li)"
      ],
      "execution_count": 36,
      "outputs": [
        {
          "output_type": "execute_result",
          "data": {
            "text/plain": [
              "list"
            ]
          },
          "metadata": {
            "tags": []
          },
          "execution_count": 36
        }
      ]
    },
    {
      "cell_type": "code",
      "metadata": {
        "id": "YsNL6eTz_274",
        "colab_type": "code",
        "colab": {
          "base_uri": "https://localhost:8080/",
          "height": 34
        },
        "outputId": "c31dd128-c27b-4a79-9f54-39523c898dec"
      },
      "source": [
        "li1=[12,34,\"list2\"]\n",
        "li+li1"
      ],
      "execution_count": 38,
      "outputs": [
        {
          "output_type": "execute_result",
          "data": {
            "text/plain": [
              "[1, 2, 3.4, 'list', 12, 34, 'list2']"
            ]
          },
          "metadata": {
            "tags": []
          },
          "execution_count": 38
        }
      ]
    },
    {
      "cell_type": "code",
      "metadata": {
        "id": "Uuu8AZEP_9BM",
        "colab_type": "code",
        "colab": {
          "base_uri": "https://localhost:8080/",
          "height": 34
        },
        "outputId": "c07aecf0-aca4-4e82-dd4c-c456e2c34aa7"
      },
      "source": [
        "li*3"
      ],
      "execution_count": 39,
      "outputs": [
        {
          "output_type": "execute_result",
          "data": {
            "text/plain": [
              "[1, 2, 3.4, 'list', 1, 2, 3.4, 'list', 1, 2, 3.4, 'list']"
            ]
          },
          "metadata": {
            "tags": []
          },
          "execution_count": 39
        }
      ]
    },
    {
      "cell_type": "code",
      "metadata": {
        "id": "MWer0xxOAApf",
        "colab_type": "code",
        "colab": {
          "base_uri": "https://localhost:8080/",
          "height": 34
        },
        "outputId": "d29ca182-d9c8-4066-be09-dc53b1309789"
      },
      "source": [
        "li[2:]"
      ],
      "execution_count": 42,
      "outputs": [
        {
          "output_type": "execute_result",
          "data": {
            "text/plain": [
              "[3.4, 'list']"
            ]
          },
          "metadata": {
            "tags": []
          },
          "execution_count": 42
        }
      ]
    },
    {
      "cell_type": "code",
      "metadata": {
        "id": "MfELCH6AAL4c",
        "colab_type": "code",
        "colab": {
          "base_uri": "https://localhost:8080/",
          "height": 34
        },
        "outputId": "b57a1fc4-d807-428c-e301-072c9507db6c"
      },
      "source": [
        "li[3]"
      ],
      "execution_count": 41,
      "outputs": [
        {
          "output_type": "execute_result",
          "data": {
            "text/plain": [
              "'list'"
            ]
          },
          "metadata": {
            "tags": []
          },
          "execution_count": 41
        }
      ]
    },
    {
      "cell_type": "code",
      "metadata": {
        "id": "aAxgjkjPAN_z",
        "colab_type": "code",
        "colab": {
          "base_uri": "https://localhost:8080/",
          "height": 34
        },
        "outputId": "0aefab73-556f-411d-d2f9-023859b94ccc"
      },
      "source": [
        "print(1 in li, 4 in li,\"list\" not in li)"
      ],
      "execution_count": 44,
      "outputs": [
        {
          "output_type": "stream",
          "text": [
            "True False False\n"
          ],
          "name": "stdout"
        }
      ]
    },
    {
      "cell_type": "code",
      "metadata": {
        "id": "N1jZC9GcAlFx",
        "colab_type": "code",
        "colab": {
          "base_uri": "https://localhost:8080/",
          "height": 34
        },
        "outputId": "b070397d-053d-46ab-8454-da38f74935af"
      },
      "source": [
        "li[3][2]"
      ],
      "execution_count": 48,
      "outputs": [
        {
          "output_type": "execute_result",
          "data": {
            "text/plain": [
              "'s'"
            ]
          },
          "metadata": {
            "tags": []
          },
          "execution_count": 48
        }
      ]
    },
    {
      "cell_type": "code",
      "metadata": {
        "id": "IGEKslGmBmgI",
        "colab_type": "code",
        "colab": {
          "base_uri": "https://localhost:8080/",
          "height": 34
        },
        "outputId": "cccb39ec-4664-4e70-c59f-5db64bc25f89"
      },
      "source": [
        "a=\"hello\"\n",
        "b=list(a)\n",
        "print(b)"
      ],
      "execution_count": 49,
      "outputs": [
        {
          "output_type": "stream",
          "text": [
            "['h', 'e', 'l', 'l', 'o']\n"
          ],
          "name": "stdout"
        }
      ]
    }
  ]
}