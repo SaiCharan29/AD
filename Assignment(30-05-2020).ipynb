{
 "cells": [
  {
   "cell_type": "markdown",
   "metadata": {},
   "source": [
    "# CSE-221710313019-K Sai Charan"
   ]
  },
  {
   "cell_type": "markdown",
   "metadata": {},
   "source": [
    "Count the no.of words,no.of letters,no.of lines available in your file"
   ]
  },
  {
   "cell_type": "code",
   "execution_count": 49,
   "metadata": {},
   "outputs": [
    {
     "name": "stdout",
     "output_type": "stream",
     "text": [
      "9 147 855\n"
     ]
    }
   ],
   "source": [
    "f=open(\"sample.txt\",\"r\")\n",
    "data=f.read()\n",
    "data=data.split(\"\\n\")\n",
    "l=0\n",
    "w=0\n",
    "le=0\n",
    "for i in data:\n",
    "    l+=1\n",
    "    words=i.split()\n",
    "    w+=len(words)\n",
    "    for j in words:\n",
    "        for k in j:\n",
    "            if(k.isalpha()):\n",
    "                le+=1\n",
    "f.close()\n",
    "print(l,w,le)"
   ]
  },
  {
   "cell_type": "markdown",
   "metadata": {},
   "source": [
    "Copy the content of one file to another"
   ]
  },
  {
   "cell_type": "code",
   "execution_count": 50,
   "metadata": {},
   "outputs": [],
   "source": [
    "f=open(\"sample.txt\",\"r\")\n",
    "f1=open(\"sample_copy.txt\",\"w\")\n",
    "data=f.read()\n",
    "data=data.split(\"\\n\")\n",
    "for i in data:\n",
    "    f1.write(i)\n",
    "f.close()\n",
    "f1.close()"
   ]
  },
  {
   "cell_type": "code",
   "execution_count": 51,
   "metadata": {},
   "outputs": [
    {
     "name": "stdout",
     "output_type": "stream",
     "text": [
      "Python is an interpreted, high-level, general-purpose programming language. Created by Guido van Rossum and first released in 1991, Python's design philosophy emphasizes code readability with its notable use of significant whitespace. Its language constructs and object-oriented approach aim to help programmers write clear, logical code for small and large-scale projects.Python is dynamically typed and garbage-collected. It supports multiple programming paradigms, including structured (particularly, procedural), object-oriented, and functional programming. Python is often described as a \"batteries included\" language due to its comprehensive standard library.Python was conceived in the late 1980s as a successor to the ABC language. Python 2.0, released in 2000, introduced features like list comprehensions and a garbage collection system capable of collecting reference cycles. Python 3.0, released in 2008, was a major revision of the language that is not completely backward-compatible, and much Python 2 code does not run unmodified on Python 3.\n"
     ]
    }
   ],
   "source": [
    "f2=open(\"sample_copy.txt\",\"r\")\n",
    "d=f2.read()\n",
    "print(d)\n",
    "f2.close()"
   ]
  },
  {
   "cell_type": "markdown",
   "metadata": {},
   "source": [
    "Display the words starting with letter 'p'"
   ]
  },
  {
   "cell_type": "code",
   "execution_count": 55,
   "metadata": {},
   "outputs": [
    {
     "name": "stdout",
     "output_type": "stream",
     "text": [
      "Python\n",
      "programming\n",
      "Pythons\n",
      "philosophy\n",
      "programmers\n",
      "projects\n",
      "Python\n",
      "programming\n",
      "paradigms\n",
      "procedural\n",
      "programming\n",
      "Python\n",
      "Python\n",
      "Python\n",
      "Python\n",
      "Python\n",
      "Python\n"
     ]
    }
   ],
   "source": [
    "m=[]\n",
    "f=open(\"sample.txt\",\"r\")\n",
    "data=f.read()\n",
    "data=data.split(\"\\n\")\n",
    "for i in data:\n",
    "    words=i.split()\n",
    "    for j in words:\n",
    "        if(j[0]=='p' or j[0]=='P'):\n",
    "            m.append(j)\n",
    "f.close()\n",
    "for i in m:\n",
    "    for j in i:\n",
    "        if(not j.isalpha()):\n",
    "            i=i.replace(j, \"\")\n",
    "    print(i)\n",
    "f.close()"
   ]
  },
  {
   "cell_type": "markdown",
   "metadata": {},
   "source": [
    "Rename and remove files"
   ]
  },
  {
   "cell_type": "code",
   "execution_count": 1,
   "metadata": {},
   "outputs": [],
   "source": [
    "import os\n",
    "os.rename(\"sample.txt\",\"test.txt\")"
   ]
  },
  {
   "cell_type": "code",
   "execution_count": 2,
   "metadata": {},
   "outputs": [],
   "source": [
    "import os\n",
    "os.remove(\"test.txt\")"
   ]
  },
  {
   "cell_type": "markdown",
   "metadata": {},
   "source": [
    "1. Create a folder \n",
    "2. Goto that folder and create 5 no.of files\n",
    "3. All the file names should be unique\n",
    "4. Add some content into the file and the content in all the files should be unique\n",
    "5. File size should be 512bits"
   ]
  },
  {
   "cell_type": "code",
   "execution_count": 1,
   "metadata": {},
   "outputs": [],
   "source": [
    "import os\n",
    "directory=\"New\"\n",
    "parent=\"C:/Users/MANOHAR/Desktop/DSPS/\"\n",
    "path=parent+directory\n",
    "os.mkdir(path)\n",
    "os.chdir(path)\n",
    "t=\"a\"\n",
    "lis=[]\n",
    "for i in range(1,6):\n",
    "    lis.append(t+str(i)+\".txt\")"
   ]
  },
  {
   "cell_type": "code",
   "execution_count": 22,
   "metadata": {},
   "outputs": [],
   "source": [
    "for i in lis:\n",
    "    f=open(i,'w')\n",
    "    f.write((\"welcome to \"+i+\"pyt\")*25)"
   ]
  },
  {
   "cell_type": "code",
   "execution_count": 24,
   "metadata": {},
   "outputs": [
    {
     "name": "stdout",
     "output_type": "stream",
     "text": [
      "Contents :\n",
      "welcome to a1.txtpytwelcome to a1.txtpytwelcome to a1.txtpytwelcome to a1.txtpytwelcome to a1.txtpytwelcome to a1.txtpytwelcome to a1.txtpytwelcome to a1.txtpytwelcome to a1.txtpytwelcome to a1.txtpytwelcome to a1.txtpytwelcome to a1.txtpytwelcome to a1.txtpytwelcome to a1.txtpytwelcome to a1.txtpytwelcome to a1.txtpytwelcome to a1.txtpytwelcome to a1.txtpytwelcome to a1.txtpytwelcome to a1.txtpytwelcome to a1.txtpytwelcome to a1.txtpytwelcome to a1.txtpytwelcome to a1.txtpytwelcome to a1.txtpytGood Morning\n",
      "size : 512\n",
      "Contents :\n",
      "welcome to a2.txtpytwelcome to a2.txtpytwelcome to a2.txtpytwelcome to a2.txtpytwelcome to a2.txtpytwelcome to a2.txtpytwelcome to a2.txtpytwelcome to a2.txtpytwelcome to a2.txtpytwelcome to a2.txtpytwelcome to a2.txtpytwelcome to a2.txtpytwelcome to a2.txtpytwelcome to a2.txtpytwelcome to a2.txtpytwelcome to a2.txtpytwelcome to a2.txtpytwelcome to a2.txtpytwelcome to a2.txtpytwelcome to a2.txtpytwelcome to a2.txtpytwelcome to a2.txtpytwelcome to a2.txtpytwelcome to a2.txtpytwelcome to a2.txtpytGood Morning\n",
      "size : 512\n",
      "Contents :\n",
      "welcome to a3.txtpytwelcome to a3.txtpytwelcome to a3.txtpytwelcome to a3.txtpytwelcome to a3.txtpytwelcome to a3.txtpytwelcome to a3.txtpytwelcome to a3.txtpytwelcome to a3.txtpytwelcome to a3.txtpytwelcome to a3.txtpytwelcome to a3.txtpytwelcome to a3.txtpytwelcome to a3.txtpytwelcome to a3.txtpytwelcome to a3.txtpytwelcome to a3.txtpytwelcome to a3.txtpytwelcome to a3.txtpytwelcome to a3.txtpytwelcome to a3.txtpytwelcome to a3.txtpytwelcome to a3.txtpytwelcome to a3.txtpytwelcome to a3.txtpytGood Morning\n",
      "size : 512\n",
      "Contents :\n",
      "welcome to a4.txtpytwelcome to a4.txtpytwelcome to a4.txtpytwelcome to a4.txtpytwelcome to a4.txtpytwelcome to a4.txtpytwelcome to a4.txtpytwelcome to a4.txtpytwelcome to a4.txtpytwelcome to a4.txtpytwelcome to a4.txtpytwelcome to a4.txtpytwelcome to a4.txtpytwelcome to a4.txtpytwelcome to a4.txtpytwelcome to a4.txtpytwelcome to a4.txtpytwelcome to a4.txtpytwelcome to a4.txtpytwelcome to a4.txtpytwelcome to a4.txtpytwelcome to a4.txtpytwelcome to a4.txtpytwelcome to a4.txtpytwelcome to a4.txtpytGood Morning\n",
      "size : 512\n",
      "Contents :\n",
      "welcome to a5.txtpytwelcome to a5.txtpytwelcome to a5.txtpytwelcome to a5.txtpytwelcome to a5.txtpytwelcome to a5.txtpytwelcome to a5.txtpytwelcome to a5.txtpytwelcome to a5.txtpytwelcome to a5.txtpytwelcome to a5.txtpytwelcome to a5.txtpytwelcome to a5.txtpytwelcome to a5.txtpytwelcome to a5.txtpytwelcome to a5.txtpytwelcome to a5.txtpytwelcome to a5.txtpytwelcome to a5.txtpytwelcome to a5.txtpytwelcome to a5.txtpytwelcome to a5.txtpytwelcome to a5.txtpytwelcome to a5.txtpytwelcome to a5.txtpytGood Morning\n",
      "size : 512\n"
     ]
    }
   ],
   "source": [
    "import os\n",
    "for i in lis:\n",
    "    f=open(i,\"a\")\n",
    "    s=\"Good Morning\"\n",
    "    f.write(s)\n",
    "    f.close()\n",
    "    f=open(i)\n",
    "    print(\"Contents :\")\n",
    "    for j in f.readlines():\n",
    "        print(j)\n",
    "    print(\"size :\",end=\" \")\n",
    "    print(os.path.getsize(i))"
   ]
  },
  {
   "cell_type": "code",
   "execution_count": null,
   "metadata": {},
   "outputs": [],
   "source": []
  }
 ],
 "metadata": {
  "kernelspec": {
   "display_name": "Python 3",
   "language": "python",
   "name": "python3"
  },
  "language_info": {
   "codemirror_mode": {
    "name": "ipython",
    "version": 3
   },
   "file_extension": ".py",
   "mimetype": "text/x-python",
   "name": "python",
   "nbconvert_exporter": "python",
   "pygments_lexer": "ipython3",
   "version": "3.7.3"
  }
 },
 "nbformat": 4,
 "nbformat_minor": 2
}
