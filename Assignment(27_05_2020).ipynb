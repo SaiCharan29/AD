{
  "nbformat": 4,
  "nbformat_minor": 0,
  "metadata": {
    "colab": {
      "name": "Assignment(27-05-2020)",
      "provenance": []
    },
    "kernelspec": {
      "name": "python3",
      "display_name": "Python 3"
    }
  },
  "cells": [
    {
      "cell_type": "markdown",
      "metadata": {
        "id": "eX2QRPtW2M_b",
        "colab_type": "text"
      },
      "source": [
        "### Generate the following pattern\n",
        "###\t*\n",
        "###\t* * \n",
        "###\t* * *\n",
        "###\t* * * *\n",
        "###\t* * * * * "
      ]
    },
    {
      "cell_type": "code",
      "metadata": {
        "id": "JtEhlUIj2n_x",
        "colab_type": "code",
        "colab": {
          "base_uri": "https://localhost:8080/",
          "height": 118
        },
        "outputId": "5c449e8d-0fa3-483a-bde7-e8926241a659"
      },
      "source": [
        "for i in range(6):\n",
        "  for j in range(i):\n",
        "    print('*',end=\" \")\n",
        "  print()\n",
        "  "
      ],
      "execution_count": 3,
      "outputs": [
        {
          "output_type": "stream",
          "text": [
            "\n",
            "* \n",
            "* * \n",
            "* * * \n",
            "* * * * \n",
            "* * * * * \n"
          ],
          "name": "stdout"
        }
      ]
    },
    {
      "cell_type": "markdown",
      "metadata": {
        "id": "wY4tS8wM3rpQ",
        "colab_type": "text"
      },
      "source": [
        "###Display multiplication table of K. Take k value from user\n",
        "###\tEx:      7 x 1 =7\n",
        "###  \t\t7 x 2 = 14   ....."
      ]
    },
    {
      "cell_type": "code",
      "metadata": {
        "id": "1irxwWpY3y59",
        "colab_type": "code",
        "colab": {
          "base_uri": "https://localhost:8080/",
          "height": 202
        },
        "outputId": "0af2023d-9d49-474f-828f-4951ea8112ac"
      },
      "source": [
        "k=int(input())\n",
        "for i in range(10):\n",
        "  print(k,'*',i+1,'=',k*(i+1))"
      ],
      "execution_count": 4,
      "outputs": [
        {
          "output_type": "stream",
          "text": [
            "7\n",
            "7 * 1 = 7\n",
            "7 * 2 = 14\n",
            "7 * 3 = 21\n",
            "7 * 4 = 28\n",
            "7 * 5 = 35\n",
            "7 * 6 = 42\n",
            "7 * 7 = 49\n",
            "7 * 8 = 56\n",
            "7 * 9 = 63\n",
            "7 * 10 = 70\n"
          ],
          "name": "stdout"
        }
      ]
    },
    {
      "cell_type": "markdown",
      "metadata": {
        "id": "meRHcdqC4zhj",
        "colab_type": "text"
      },
      "source": [
        "### Roots of quadratic equation\n",
        "### Take the coefficients a,b,c from the user"
      ]
    },
    {
      "cell_type": "code",
      "metadata": {
        "id": "qv99afCv4vxS",
        "colab_type": "code",
        "colab": {
          "base_uri": "https://localhost:8080/",
          "height": 84
        },
        "outputId": "4b72339c-3f74-40de-e88b-c6e42b0ef587"
      },
      "source": [
        "import math\n",
        "a=int(input())\n",
        "b=int(input())\n",
        "c=int(input())\n",
        "d=b**2-4*a*c\n",
        "if d>0:\n",
        "  print(\"Roots are:\",(((-b)+math.sqrt(d))/(2*a)),((-b)-math.sqrt(d))/(2*a))\n",
        "elif d==0:\n",
        "  print(\"Roots are:\",((-b)/2*a),((-b)/2*a))\n",
        "else:\n",
        "  print(\"Roots are imaginary\")"
      ],
      "execution_count": 12,
      "outputs": [
        {
          "output_type": "stream",
          "text": [
            "1\n",
            "-5\n",
            "6\n",
            "Roots are: 3.0 2.0\n"
          ],
          "name": "stdout"
        }
      ]
    },
    {
      "cell_type": "markdown",
      "metadata": {
        "id": "k_NboRIb72g4",
        "colab_type": "text"
      },
      "source": [
        "### Convert a decimal number to Binary"
      ]
    },
    {
      "cell_type": "code",
      "metadata": {
        "id": "p4hxnQNH74Pn",
        "colab_type": "code",
        "colab": {
          "base_uri": "https://localhost:8080/",
          "height": 50
        },
        "outputId": "22479594-246e-4161-e546-fc6389f04b7c"
      },
      "source": [
        "n=int(input())\n",
        "res=\"\"\n",
        "while(n!=0):\n",
        "  r=n%2\n",
        "  n=n//2\n",
        "  res=str(r)+res\n",
        "print(res)"
      ],
      "execution_count": 16,
      "outputs": [
        {
          "output_type": "stream",
          "text": [
            "2\n",
            "10\n"
          ],
          "name": "stdout"
        }
      ]
    },
    {
      "cell_type": "markdown",
      "metadata": {
        "id": "3MH01eBr-RPH",
        "colab_type": "text"
      },
      "source": [
        "### Generate first N number of Fibonacci numbers. Take N value from the user"
      ]
    },
    {
      "cell_type": "code",
      "metadata": {
        "id": "8jUPoSaT8nFF",
        "colab_type": "code",
        "colab": {
          "base_uri": "https://localhost:8080/",
          "height": 50
        },
        "outputId": "e382007a-2152-4962-fa16-3894f82a3563"
      },
      "source": [
        "def Fib(n): \n",
        "  if n==1:\n",
        "    return 0\n",
        "  elif n==2:\n",
        "    return 1\n",
        "  else: \n",
        "    return Fib(n-1)+Fib(n-2) \n",
        "n=int(input())\n",
        "for i in range(1,n+1):\n",
        "  print(Fib(i),end=\" \")"
      ],
      "execution_count": 23,
      "outputs": [
        {
          "output_type": "stream",
          "text": [
            "4\n",
            "0 1 1 2 "
          ],
          "name": "stdout"
        }
      ]
    }
  ]
}