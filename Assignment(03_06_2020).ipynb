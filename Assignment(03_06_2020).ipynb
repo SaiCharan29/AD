{
  "nbformat": 4,
  "nbformat_minor": 0,
  "metadata": {
    "kernelspec": {
      "display_name": "Python 3",
      "language": "python",
      "name": "python3"
    },
    "language_info": {
      "codemirror_mode": {
        "name": "ipython",
        "version": 3
      },
      "file_extension": ".py",
      "mimetype": "text/x-python",
      "name": "python",
      "nbconvert_exporter": "python",
      "pygments_lexer": "ipython3",
      "version": "3.7.3"
    },
    "colab": {
      "name": "Assignment(03-06-2020).ipynb",
      "provenance": [],
      "include_colab_link": true
    }
  },
  "cells": [
    {
      "cell_type": "markdown",
      "metadata": {
        "id": "view-in-github",
        "colab_type": "text"
      },
      "source": [
        "<a href=\"https://colab.research.google.com/github/SaiCharan29/AD/blob/master/Assignment(03_06_2020).ipynb\" target=\"_parent\"><img src=\"https://colab.research.google.com/assets/colab-badge.svg\" alt=\"Open In Colab\"/></a>"
      ]
    },
    {
      "cell_type": "markdown",
      "metadata": {
        "id": "2yhGewBbE8Ji",
        "colab_type": "text"
      },
      "source": [
        "# CSE-221710313019-K Sai Charan"
      ]
    },
    {
      "cell_type": "markdown",
      "metadata": {
        "id": "xrZ63bT6E8Jl",
        "colab_type": "text"
      },
      "source": [
        " ### [Reverse]\n",
        " Copy the contents of a text file into another, printing the reversed version of each input line"
      ]
    },
    {
      "cell_type": "code",
      "metadata": {
        "id": "e1psaVsjE8Jo",
        "colab_type": "code",
        "colab": {},
        "outputId": "b5100cc7-7db9-422a-d9cd-d9f4c386a33f"
      },
      "source": [
        "f=open(\"demo.txt\",\"r\")\n",
        "f1=open(\"copy.txt\",\"w\")\n",
        "for i in f.readlines():\n",
        "    print(i)\n",
        "    f1.write(\" \".join(reversed((i.split())))+\"\\n\")\n",
        "f.close()\n",
        "f1.close()"
      ],
      "execution_count": 0,
      "outputs": [
        {
          "output_type": "stream",
          "text": [
            "Hello i am charan\n",
            "\n",
            "GITAM School of technology\n",
            "\n",
            "DSPS Advanced programming\n"
          ],
          "name": "stdout"
        }
      ]
    },
    {
      "cell_type": "code",
      "metadata": {
        "id": "f7hKwL1BE8Jt",
        "colab_type": "code",
        "colab": {},
        "outputId": "bfe6b665-7305-4c47-f543-71970527d14c"
      },
      "source": [
        "f2=open(\"copy.txt\",\"r\")\n",
        "d=f2.read()\n",
        "d=d.split(\"\\n\")\n",
        "for i in d:\n",
        "    print(i)\n",
        "f2.close()"
      ],
      "execution_count": 0,
      "outputs": [
        {
          "output_type": "stream",
          "text": [
            "charan am i Hello\n",
            "technology of School GITAM\n",
            "programming Advanced DSPS\n",
            "\n"
          ],
          "name": "stdout"
        }
      ]
    },
    {
      "cell_type": "markdown",
      "metadata": {
        "id": "4P6yTT2rE8Jx",
        "colab_type": "text"
      },
      "source": [
        " ### [Number Lines] \n",
        " Print the contents of a file line by line putting a line number for each line."
      ]
    },
    {
      "cell_type": "code",
      "metadata": {
        "id": "19xLFYxZE8Jy",
        "colab_type": "code",
        "colab": {},
        "outputId": "d7f06e45-8558-4331-b95f-6ab8aa972d57"
      },
      "source": [
        "f2=open(\"demo.txt\",\"r\")\n",
        "d=f2.read()\n",
        "d=d.split(\"\\n\")\n",
        "c=1\n",
        "for i in d:\n",
        "    print(str(c),\"->\",i)\n",
        "    c+=1\n",
        "f2.close()"
      ],
      "execution_count": 0,
      "outputs": [
        {
          "output_type": "stream",
          "text": [
            "1 -> Hello i am charan\n",
            "2 -> GITAM School of technology\n",
            "3 -> DSPS Advanced programming\n"
          ],
          "name": "stdout"
        }
      ]
    },
    {
      "cell_type": "markdown",
      "metadata": {
        "id": "7nqeAdmBE8J2",
        "colab_type": "text"
      },
      "source": [
        "### [deDuplicate] Avoiding Duplicates\n",
        "In many situations, lists should not contain duplicate elements. For example, a pack of cards should not contain the same card twice. Define a function\n",
        "- duplicates (list): bool\n",
        "which returns True if its argument contains duplicate elements.\n",
        "\t\t- duplicates [1,2,3,4,5]\n",
        "\t\t\t- False\n",
        "\t\t- duplicates [1,2,3,2]\n",
        "\t\t\t- True\n",
        "- Hint: the standard operation in, which tests whether an element occurs in a list, is helpful here.\n",
        "\n",
        "One way to ensure a list contains no duplicates is to start with a list that might contain duplicate elements, and remove them. Define a function\n",
        "    - removeDuplicates (list): list\n",
        "which returns a list containing the same elements as its argument, but without duplicates.\n"
      ]
    },
    {
      "cell_type": "code",
      "metadata": {
        "id": "fi_gYmNyE8J3",
        "colab_type": "code",
        "colab": {},
        "outputId": "0e186c7b-10d7-4321-8595-c55d44e70d20"
      },
      "source": [
        "def duplicates(li):\n",
        "    if(len(li)==len(set(li))):\n",
        "        return True\n",
        "    else:\n",
        "        return False\n",
        "def removeduplicates(li):\n",
        "       return list(set(li))\n",
        "list1=list(map(int,input().split()))\n",
        "print(duplicates(list1))\n",
        "print(removeduplicates(list1))"
      ],
      "execution_count": 0,
      "outputs": [
        {
          "output_type": "stream",
          "text": [
            "1 4 2 3 1 2 5 3 1 2 3 4 2 \n",
            "False\n",
            "[1, 2, 3, 4, 5]\n"
          ],
          "name": "stdout"
        }
      ]
    },
    {
      "cell_type": "markdown",
      "metadata": {
        "id": "3yVlSqQpE8J7",
        "colab_type": "text"
      },
      "source": [
        "### [fractions.py] \n",
        "Develop a package for fractions. Develop a module that performs operations on fractions. It should have methods to create fractions, perform operations on two fractions, simplify a fraction, and print a fraction. You should use that package and illustrate those operations."
      ]
    },
    {
      "cell_type": "code",
      "metadata": {
        "id": "z4XIB8M6E8J8",
        "colab_type": "code",
        "colab": {},
        "outputId": "6a5b374b-53ee-4cb2-b940-37f72b84f19d"
      },
      "source": [
        "import fractions as fr\n",
        "fr.printFrac(2,3)\n",
        "fr.areFracEqual(\"2/4\",\"1/2\")\n",
        "print(fr.simplify(\"15/24\"))\n",
        "print(fr.add(\"3/4\",\"1/2\"))\n",
        "print(fr.multiply(\"3/4\",\"1/2\"))\n",
        "print(fr.divide(\"3/4\",\"1/2\"))"
      ],
      "execution_count": 0,
      "outputs": [
        {
          "output_type": "stream",
          "text": [
            "2/3\n",
            "5/8\n",
            "5/4\n",
            "3/8\n",
            "3/2\n"
          ],
          "name": "stdout"
        }
      ]
    },
    {
      "cell_type": "code",
      "metadata": {
        "id": "O01gAXK9E8KA",
        "colab_type": "code",
        "colab": {},
        "outputId": "11bdab7a-ee7d-4b54-b16f-4831d4ead4d1"
      },
      "source": [
        "help(fr)"
      ],
      "execution_count": 0,
      "outputs": [
        {
          "output_type": "stream",
          "text": [
            "Help on module fractions:\n",
            "\n",
            "NAME\n",
            "    fractions\n",
            "\n",
            "FUNCTIONS\n",
            "    add(s1, s2)\n",
            "    \n",
            "    areFracEqual(s1, s2)\n",
            "    \n",
            "    divide(s1, s2)\n",
            "    \n",
            "    multiply(s1, s2)\n",
            "    \n",
            "    printFrac(num, den)\n",
            "    \n",
            "    simplify(s1)\n",
            "\n",
            "FILE\n",
            "    c:\\users\\manohar\\desktop\\dsps\\fractions.py\n",
            "\n",
            "\n"
          ],
          "name": "stdout"
        }
      ]
    },
    {
      "cell_type": "markdown",
      "metadata": {
        "id": "2ViogFttE8KF",
        "colab_type": "text"
      },
      "source": [
        "### [Permutations] \n",
        "A permutation of a list is another list with the same elements, but in a possibly different order. \n",
        "- For example, [1,2,1] is a permutation of [2,1,1], but not of [1,2,2]. Write a function\n",
        "    \t\t- isPermutation (list1, list2): bool\n",
        "that returns True if its arguments are permutations of each other.\n"
      ]
    },
    {
      "cell_type": "code",
      "metadata": {
        "id": "DRTfuDpcE8KF",
        "colab_type": "code",
        "colab": {},
        "outputId": "91a60a31-9bc9-4540-d407-3e0c3406380e"
      },
      "source": [
        "def ispermutation(l1,l2):\n",
        "    a=True\n",
        "    for i in l1:\n",
        "        if(l1.count(i)!=l2.count(i) or len(l1)!=len(l2)):\n",
        "            a=False\n",
        "    return a\n",
        "l1=list(map(int,input().split()))\n",
        "l2=list(map(int,input().split()))\n",
        "print(ispermutation(l1,l2))"
      ],
      "execution_count": 0,
      "outputs": [
        {
          "output_type": "stream",
          "text": [
            "1 2 1\n",
            "2 1 1\n",
            "True\n"
          ],
          "name": "stdout"
        }
      ]
    }
  ]
}