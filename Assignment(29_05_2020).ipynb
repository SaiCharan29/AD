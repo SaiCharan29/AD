{
 "cells": [
  {
   "cell_type": "markdown",
   "metadata": {
    "colab_type": "text",
    "id": "F0gyo-X_5uGf"
   },
   "source": [
    "# CSE-221710313019-K Sai Charan"
   ]
  },
  {
   "cell_type": "markdown",
   "metadata": {
    "colab_type": "text",
    "id": "RC1eHS3E51ki"
   },
   "source": [
    "Create a function to find Factorial of a number using Recursion"
   ]
  },
  {
   "cell_type": "code",
   "execution_count": 0,
   "metadata": {
    "colab": {
     "base_uri": "https://localhost:8080/",
     "height": 50
    },
    "colab_type": "code",
    "id": "5vvto0V35jME",
    "outputId": "29c6eba1-3731-4ef8-91fd-2f243c94b97f"
   },
   "outputs": [
    {
     "name": "stdout",
     "output_type": "stream",
     "text": [
      "Enter a number5\n",
      "120\n"
     ]
    }
   ],
   "source": [
    "def fact(n):\n",
    "  if(n==1 or n==0):\n",
    "    return 1\n",
    "  else:\n",
    "    return n*fact(n-1)\n",
    "print(fact(int(input(\"Enter a number\"))))"
   ]
  },
  {
   "cell_type": "markdown",
   "metadata": {
    "colab_type": "text",
    "id": "tvWTW3h96Y2j"
   },
   "source": [
    "Create a function and display ‘n’ Fibonacci numbers using Recursion"
   ]
  },
  {
   "cell_type": "code",
   "execution_count": 0,
   "metadata": {
    "colab": {
     "base_uri": "https://localhost:8080/",
     "height": 50
    },
    "colab_type": "code",
    "id": "JsrB721Z6J5B",
    "outputId": "12c7afc1-e27f-4bd2-96da-f5f4aa149fa0"
   },
   "outputs": [
    {
     "name": "stdout",
     "output_type": "stream",
     "text": [
      "5\n",
      "0 1 1 2 3 "
     ]
    }
   ],
   "source": [
    "def fib(n):\n",
    "  if(n<=1):\n",
    "    return n\n",
    "  else:\n",
    "    return fib(n-1)+fib(n-2)\n",
    "a=int(input())\n",
    "for i in range(a):\n",
    "  print(fib(i),end=\" \")"
   ]
  },
  {
   "cell_type": "markdown",
   "metadata": {
    "colab_type": "text",
    "id": "abDp1QBg65BL"
   },
   "source": [
    "Print sum of list of elements without using sum() function"
   ]
  },
  {
   "cell_type": "code",
   "execution_count": 0,
   "metadata": {
    "colab": {
     "base_uri": "https://localhost:8080/",
     "height": 34
    },
    "colab_type": "code",
    "id": "OHnBUWDS6pPC",
    "outputId": "1183025d-f005-49b6-ff98-99076dcbacf1"
   },
   "outputs": [
    {
     "name": "stdout",
     "output_type": "stream",
     "text": [
      "72\n"
     ]
    }
   ],
   "source": [
    "li=[1,2,34,23,12]\n",
    "s=0\n",
    "for i in li:\n",
    "  s+=i\n",
    "print(s)"
   ]
  },
  {
   "cell_type": "markdown",
   "metadata": {
    "colab_type": "text",
    "id": "txzV-Hjw7Lte"
   },
   "source": [
    "print only even numbers from the list"
   ]
  },
  {
   "cell_type": "code",
   "execution_count": 0,
   "metadata": {
    "colab": {
     "base_uri": "https://localhost:8080/",
     "height": 34
    },
    "colab_type": "code",
    "id": "fF53xjcF7IxC",
    "outputId": "8bd8e7b3-095c-499b-c54d-4e05c0e1be05"
   },
   "outputs": [
    {
     "name": "stdout",
     "output_type": "stream",
     "text": [
      "12 190 14 "
     ]
    }
   ],
   "source": [
    "li=[12,11,31,190,5,23,14]\n",
    "for i in li:\n",
    "  if(i%2==0):\n",
    "    print(i,end=\" \")"
   ]
  },
  {
   "cell_type": "markdown",
   "metadata": {
    "colab_type": "text",
    "id": "HxU0BcUx7nHO"
   },
   "source": [
    "Write a Python program to get the smallest number from a list and display index of smallest element of the list"
   ]
  },
  {
   "cell_type": "code",
   "execution_count": 0,
   "metadata": {
    "colab": {
     "base_uri": "https://localhost:8080/",
     "height": 50
    },
    "colab_type": "code",
    "id": "gHiaB7bj7hSR",
    "outputId": "75f71165-a6e9-46ba-e236-d942708b43be"
   },
   "outputs": [
    {
     "name": "stdout",
     "output_type": "stream",
     "text": [
      "Smallest element : -4\n",
      "Index : 7\n"
     ]
    }
   ],
   "source": [
    "li=[45,2,34,1,345,88,7,-4]\n",
    "print(\"Smallest element :\",min(li))\n",
    "a=min(li)\n",
    "for i in range(len(li)):\n",
    "  if(li[i]==a):\n",
    "    print(\"Index :\",i)"
   ]
  },
  {
   "cell_type": "markdown",
   "metadata": {
    "colab_type": "text",
    "id": "nM3esuDi8wni"
   },
   "source": [
    "Write a Python function that checks whether a passed string is palindrome or not."
   ]
  },
  {
   "cell_type": "code",
   "execution_count": 0,
   "metadata": {
    "colab": {
     "base_uri": "https://localhost:8080/",
     "height": 50
    },
    "colab_type": "code",
    "id": "y9XQ_Yek8Nfv",
    "outputId": "a6717efb-7654-444e-ffac-31b0102ec10b"
   },
   "outputs": [
    {
     "name": "stdout",
     "output_type": "stream",
     "text": [
      "WoW\n",
      "Palindrome\n"
     ]
    }
   ],
   "source": [
    "def palindrome(a):\n",
    "  b=a[::-1]\n",
    "  if(a==b):\n",
    "    print(\"Palindrome\")\n",
    "  else:\n",
    "    print(\"Not a palindrome\")\n",
    "st=input()\n",
    "palindrome(st)"
   ]
  },
  {
   "cell_type": "markdown",
   "metadata": {
    "colab_type": "text",
    "id": "uP0ql7jf9wSA"
   },
   "source": [
    "Write a Python program to count the number of even and odd numbers from a series of numbers. \n",
    "- Sample numbers : numbers = [1, 2, 3, 4, 5, 6, 7, 8, 9]\n",
    "- Expected Output :\n",
    "- Number of even numbers : 4\n",
    "- Number of odd numbers : 5\n"
   ]
  },
  {
   "cell_type": "code",
   "execution_count": 0,
   "metadata": {
    "colab": {
     "base_uri": "https://localhost:8080/",
     "height": 50
    },
    "colab_type": "code",
    "id": "V5fTelLx9pP5",
    "outputId": "8401436d-3994-44ab-a366-61d486e2f624"
   },
   "outputs": [
    {
     "name": "stdout",
     "output_type": "stream",
     "text": [
      "Number of even numbers : 4\n",
      "Number of odd numbers : 5\n"
     ]
    }
   ],
   "source": [
    "num=[1,2,3,4,5,6,7,8,9]\n",
    "e=0\n",
    "o=0\n",
    "for i in num:\n",
    "  if(i%2==0):\n",
    "    e+=1\n",
    "  else:\n",
    "    o+=1\n",
    "print(\"Number of even numbers :\",e)\n",
    "print(\"Number of odd numbers :\",o)"
   ]
  },
  {
   "cell_type": "markdown",
   "metadata": {
    "colab_type": "text",
    "id": "-6PHEPx--Urr"
   },
   "source": [
    "Write a Python program that prints all the numbers from 0 to 6 except 3 and 6.\n",
    "- Note : Use 'continue' statement.\n",
    "- Expected Output : 0 1 2 4 5\n",
    "\n"
   ]
  },
  {
   "cell_type": "code",
   "execution_count": 0,
   "metadata": {
    "colab": {
     "base_uri": "https://localhost:8080/",
     "height": 34
    },
    "colab_type": "code",
    "id": "ZA-oH2QF-TrS",
    "outputId": "0e67aed4-8fc7-405d-9c6c-476fbb9e3e36"
   },
   "outputs": [
    {
     "name": "stdout",
     "output_type": "stream",
     "text": [
      "0 1 2 4 5 "
     ]
    }
   ],
   "source": [
    "for i in range(0,7):\n",
    "  if(i==3 or i==6):\n",
    "    continue\n",
    "  else:\n",
    "    print(i,end=\" \")"
   ]
  },
  {
   "cell_type": "markdown",
   "metadata": {
    "colab_type": "text",
    "id": "rM60upuI-wjr"
   },
   "source": [
    "Write a python function to check whether the given number is prime or not"
   ]
  },
  {
   "cell_type": "code",
   "execution_count": 0,
   "metadata": {
    "colab": {
     "base_uri": "https://localhost:8080/",
     "height": 50
    },
    "colab_type": "code",
    "id": "IeFmL4Du-pLf",
    "outputId": "bdc2f3dd-b676-49d0-8388-f4e3f05636d2"
   },
   "outputs": [
    {
     "name": "stdout",
     "output_type": "stream",
     "text": [
      "19\n",
      "prime\n"
     ]
    }
   ],
   "source": [
    "def prime(n):\n",
    "  flag=0\n",
    "  if(n==2):\n",
    "    print(\"Prime\")\n",
    "  else:\n",
    "    for i in range(2,n//2+1):\n",
    "      if(n%i==0):\n",
    "        flag=1\n",
    "        print(\"Not a prime\")\n",
    "        break\n",
    "    if(flag==0):\n",
    "      print(\"prime\")\n",
    "prime(int(input()))"
   ]
  },
  {
   "cell_type": "markdown",
   "metadata": {
    "colab_type": "text",
    "id": "R4KZKESA_wuA"
   },
   "source": [
    "Write a python function to check whether the given number is Adam number or not\n",
    "Example: \n",
    "- Input : 12\n",
    "- Output : Adam Number\n",
    "\n",
    "- Explanation:\n",
    "  - 12*12 = 144\n",
    "  - Reverse of 12 is 21 → 21*21 =441\n",
    "  - Reverse of 144 == 441\n"
   ]
  },
  {
   "cell_type": "code",
   "execution_count": 1,
   "metadata": {
    "colab": {
     "base_uri": "https://localhost:8080/",
     "height": 50
    },
    "colab_type": "code",
    "id": "G5gf5sss-u56",
    "outputId": "10fd9e97-ecee-4977-ca75-ef50f713e04a"
   },
   "outputs": [
    {
     "name": "stdout",
     "output_type": "stream",
     "text": [
      "12\n",
      "Adam number\n"
     ]
    }
   ],
   "source": [
    "def adam(n):\n",
    "    print(\"Adam number\") if int(str(n**2)[::-1]) == int(str(n)[::-1])**2 else print(\"Not an Adam Number\")\n",
    "adam(int(input()))"
   ]
  }
 ],
 "metadata": {
  "colab": {
   "collapsed_sections": [],
   "name": "Assignment(29-05-2020)",
   "provenance": []
  },
  "kernelspec": {
   "display_name": "Python 3",
   "language": "python",
   "name": "python3"
  },
  "language_info": {
   "codemirror_mode": {
    "name": "ipython",
    "version": 3
   },
   "file_extension": ".py",
   "mimetype": "text/x-python",
   "name": "python",
   "nbconvert_exporter": "python",
   "pygments_lexer": "ipython3",
   "version": "3.7.3"
  }
 },
 "nbformat": 4,
 "nbformat_minor": 1
}
