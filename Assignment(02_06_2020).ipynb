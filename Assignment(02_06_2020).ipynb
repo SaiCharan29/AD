{
  "nbformat": 4,
  "nbformat_minor": 0,
  "metadata": {
    "colab": {
      "name": "Assignment(02-06-2020)",
      "provenance": [],
      "collapsed_sections": [],
      "authorship_tag": "ABX9TyPlsguuextaZoe+m2aaZSoI",
      "include_colab_link": true
    },
    "kernelspec": {
      "name": "python3",
      "display_name": "Python 3"
    }
  },
  "cells": [
    {
      "cell_type": "markdown",
      "metadata": {
        "id": "view-in-github",
        "colab_type": "text"
      },
      "source": [
        "<a href=\"https://colab.research.google.com/github/SaiCharan29/AD/blob/master/Assignment(02_06_2020).ipynb\" target=\"_parent\"><img src=\"https://colab.research.google.com/assets/colab-badge.svg\" alt=\"Open In Colab\"/></a>"
      ]
    },
    {
      "cell_type": "markdown",
      "metadata": {
        "id": "yRheFAgYpaYG",
        "colab_type": "text"
      },
      "source": [
        "# CSE-221710313019-K Sai Charan"
      ]
    },
    {
      "cell_type": "code",
      "metadata": {
        "id": "p-Lr-efC1PSq",
        "colab_type": "code",
        "colab": {}
      },
      "source": [
        "#List of words\n",
        "words=[\"water\",\"narrator\",\"thought\",\"school\",\"animal\",\"everyone\",\"wanted\",\"things\",\"window\",\"coming\",\"violet\"]"
      ],
      "execution_count": 0,
      "outputs": []
    },
    {
      "cell_type": "code",
      "metadata": {
        "id": "-sbgT3aOtQbr",
        "colab_type": "code",
        "outputId": "efc562e8-6e0e-48ad-8895-fefcd0b603e8",
        "colab": {
          "base_uri": "https://localhost:8080/",
          "height": 370
        }
      },
      "source": [
        "import random as r#importing random package to use choice method\n",
        "lives=9#setting chances as 9\n",
        "word=list(r.choice(words))#selecting a random word\n",
        "wor=word[:]\n",
        "res=['?'for i in range(len(word))] \n",
        "#game starts\n",
        "while(lives>0):\n",
        "  print(res)\n",
        "  a=input(\"Guess the letter or the whole word \")#Taking a character or a word as input from user\n",
        "  if(len(a)>1):#checking whether input is a word or a character\n",
        "    if(list(a)==wor):#checking whether user's guess is correct or not\n",
        "      print(\"You won!\")\n",
        "      break\n",
        "    else:\n",
        "      lives-=1\n",
        "  else:\n",
        "    if(a in word):#checking whether the entered character is in the word or not\n",
        "      res[word.index(a)]=a#revealing the position of entered character\n",
        "      word[word.index(a)]='X'\n",
        "    else:\n",
        "      lives-=1\n",
        "    if(wor==res):#checking whether the entered characters forms the complete word or not\n",
        "      print(\"You won!\")\n",
        "      break\n",
        "    if(lives==0):#checking whether the lives are left or not\n",
        "      print(\"Better luck next time!\")\n",
        "  print(\"Lives left :\",lives)#No. of lives left"
      ],
      "execution_count": 10,
      "outputs": [
        {
          "output_type": "stream",
          "text": [
            "['?', '?', '?', '?', '?', '?']\n",
            "Guess the letter or the whole word a\n",
            "Lives left : 8\n",
            "['?', '?', '?', '?', '?', '?']\n",
            "Guess the letter or the whole word e\n",
            "Lives left : 7\n",
            "['?', '?', '?', '?', '?', '?']\n",
            "Guess the letter or the whole word i\n",
            "Lives left : 7\n",
            "['?', '?', '?', 'i', '?', '?']\n",
            "Guess the letter or the whole word o\n",
            "Lives left : 7\n",
            "['?', 'o', '?', 'i', '?', '?']\n",
            "Guess the letter or the whole word g\n",
            "Lives left : 7\n",
            "['?', 'o', '?', 'i', '?', 'g']\n",
            "Guess the letter or the whole word c\n",
            "Lives left : 7\n",
            "['c', 'o', '?', 'i', '?', 'g']\n",
            "Guess the letter or the whole word coming\n",
            "You won!\n"
          ],
          "name": "stdout"
        }
      ]
    }
  ]
}