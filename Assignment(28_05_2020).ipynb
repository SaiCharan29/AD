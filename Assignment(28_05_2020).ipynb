{
  "nbformat": 4,
  "nbformat_minor": 0,
  "metadata": {
    "colab": {
      "name": "Assignment(28-05-2020)",
      "provenance": []
    },
    "kernelspec": {
      "name": "python3",
      "display_name": "Python 3"
    }
  },
  "cells": [
    {
      "cell_type": "markdown",
      "metadata": {
        "id": "oGY4hxD7gA-f",
        "colab_type": "text"
      },
      "source": [
        "# CSE-221710313019-K Sai Charan"
      ]
    },
    {
      "cell_type": "markdown",
      "metadata": {
        "id": "5WaQAlkrAA4W",
        "colab_type": "text"
      },
      "source": [
        "\n",
        "Accept a string from the user and count no.of vowels,consonants and special characters"
      ]
    },
    {
      "cell_type": "code",
      "metadata": {
        "id": "PTbKd5doAFRo",
        "colab_type": "code",
        "outputId": "ab51c26b-c781-4063-f5b3-f3b6a69e9750",
        "colab": {
          "base_uri": "https://localhost:8080/",
          "height": 101
        }
      },
      "source": [
        "v=0\n",
        "c=0\n",
        "n=0\n",
        "sp=0\n",
        "s=input()\n",
        "for i in s:\n",
        "  if(i.isalpha()):\n",
        "    if(i=='a' or i=='e' or i=='i' or i=='o' or i=='u' or i=='A' or i=='E' or i=='I' or i=='O' or i=='U'):\n",
        "      v+=1\n",
        "    else:\n",
        "      c+=1\n",
        "  elif(i.isdigit()):\n",
        "    n+=1\n",
        "  else:\n",
        "    sp+=1\n",
        "print(\"VowelCount=\",v)\n",
        "print(\"ConsonentCount=\",c)\n",
        "print(\"NumCount=\",n)\n",
        "print(\"Spec.Character count=\",sp)"
      ],
      "execution_count": 0,
      "outputs": [
        {
          "output_type": "stream",
          "text": [
            "charan@123\n",
            "VowelCount= 2\n",
            "ConsonentCount= 4\n",
            "NumCount= 3\n",
            "Spec.Character count= 1\n"
          ],
          "name": "stdout"
        }
      ]
    },
    {
      "cell_type": "markdown",
      "metadata": {
        "id": "XXUa92xdBCoR",
        "colab_type": "text"
      },
      "source": [
        "##count the no.of pairs of a in the given string(Infosys InfyTQ)\n",
        "    string →  \"abbaaccbbaaa\"\n",
        "    output →  2\n"
      ]
    },
    {
      "cell_type": "code",
      "metadata": {
        "id": "VjeBh-vvAeWt",
        "colab_type": "code",
        "outputId": "1f355185-8288-4ae2-ac72-a082719ad97a",
        "colab": {
          "base_uri": "https://localhost:8080/",
          "height": 50
        }
      },
      "source": [
        "s=input()\n",
        "s.count(\"aa\")"
      ],
      "execution_count": 0,
      "outputs": [
        {
          "output_type": "stream",
          "text": [
            "abbaaccbbaaa\n"
          ],
          "name": "stdout"
        },
        {
          "output_type": "execute_result",
          "data": {
            "text/plain": [
              "2"
            ]
          },
          "metadata": {
            "tags": []
          },
          "execution_count": 34
        }
      ]
    },
    {
      "cell_type": "markdown",
      "metadata": {
        "id": "j-yx2nBPCxen",
        "colab_type": "text"
      },
      "source": [
        "- Test case1:\n",
        "        string →  \"((((()()()))))()\"\n",
        "        output →  8\n",
        "- Test case2:\n",
        "        string →  \"((()))()\"\n",
        "        Output →  4\n"
      ]
    },
    {
      "cell_type": "code",
      "metadata": {
        "id": "itmviSCcBPIL",
        "colab_type": "code",
        "outputId": "0d840606-a87b-46d1-d0da-b28d2171d459",
        "colab": {
          "base_uri": "https://localhost:8080/",
          "height": 50
        }
      },
      "source": [
        "str=input()\n",
        "v=0\n",
        "c=0\n",
        "for i in str:\n",
        "  if(i=='('):\n",
        "    c+=1\n",
        "  elif(i==')'):\n",
        "    v+=1\n",
        "if(c>v):\n",
        "  print(v)\n",
        "else:\n",
        "  print(c)"
      ],
      "execution_count": 0,
      "outputs": [
        {
          "output_type": "stream",
          "text": [
            "((()))()\n",
            "4\n"
          ],
          "name": "stdout"
        }
      ]
    },
    {
      "cell_type": "markdown",
      "metadata": {
        "id": "X5R-J6qoEzTw",
        "colab_type": "text"
      },
      "source": [
        "Read the input as two limits and Print the output as Palindrome count between the two limits\n",
        "- Example #1: Input : 1 10 Output : 9\n",
        "- Example #2: Input : 1 100 Output : 18\n"
      ]
    },
    {
      "cell_type": "code",
      "metadata": {
        "id": "qWFQlNMUDYl3",
        "colab_type": "code",
        "outputId": "38b51425-cefd-46e1-f3dd-0e14d0f4d0b8",
        "colab": {
          "base_uri": "https://localhost:8080/",
          "height": 67
        }
      },
      "source": [
        "a=int(input())\n",
        "b=int(input())\n",
        "c=0\n",
        "for i in range(a,b):\n",
        "  r=0\n",
        "  n=i\n",
        "  while(i>0):\n",
        "    o=i%10\n",
        "    r=r*10+o\n",
        "    i=i//10\n",
        "  if(n==r):\n",
        "    c+=1\n",
        "print(c)"
      ],
      "execution_count": 0,
      "outputs": [
        {
          "output_type": "stream",
          "text": [
            "1\n",
            "100\n",
            "18\n"
          ],
          "name": "stdout"
        }
      ]
    },
    {
      "cell_type": "markdown",
      "metadata": {
        "id": "1ealdBZUHKWT",
        "colab_type": "text"
      },
      "source": [
        "Accept a number as an input and check whether the given number is palindrome or not\n",
        "- if it is a palindrome number print the number on the screen\n",
        "- if it is not a palindrome number reverse that number and add it to previous number repeat this until will get a palindrome number and print that palindrome number on the screen\n",
        "-input: 127\n",
        "-output: 848\n"
      ]
    },
    {
      "cell_type": "code",
      "metadata": {
        "id": "iAsM3-wbFUCp",
        "colab_type": "code",
        "outputId": "cd59f6b4-5617-4960-9854-6880e86bbc5d",
        "colab": {
          "base_uri": "https://localhost:8080/",
          "height": 50
        }
      },
      "source": [
        "r=0\n",
        "i=int(input())\n",
        "n=i\n",
        "while(i>0):\n",
        "  o=i%10\n",
        "  r=r*10+o\n",
        "  i=i//10\n",
        "if(n==r):\n",
        "  print(n)\n",
        "else:\n",
        "  print(n+r)"
      ],
      "execution_count": 0,
      "outputs": [
        {
          "output_type": "stream",
          "text": [
            "127\n",
            "848\n"
          ],
          "name": "stdout"
        }
      ]
    },
    {
      "cell_type": "markdown",
      "metadata": {
        "id": "OOyCUQewH3Ae",
        "colab_type": "text"
      },
      "source": [
        "input:orange  →   output : puboif"
      ]
    },
    {
      "cell_type": "code",
      "metadata": {
        "id": "X15Dq5g2HzGJ",
        "colab_type": "code",
        "outputId": "492bc790-565c-4929-eee2-91f9416262ad",
        "colab": {
          "base_uri": "https://localhost:8080/",
          "height": 50
        }
      },
      "source": [
        "x=input()\n",
        "stra=\"\"\n",
        "for i in x:\n",
        "  if(i=='a' or i=='e' or i=='i' or i=='o' or i=='u'):\n",
        "    stra=stra+chr(ord(i)+1)\n",
        "  elif(ord(i)>=ord('b') and ord(i)<=ord('d')):\n",
        "    stra=stra+'e'\n",
        "  elif(ord(i)>=ord('f') and ord(i)<=ord('h')):\n",
        "    stra=stra+'i'\n",
        "  elif(ord(i)>=ord('j') and ord(i)<=ord('n')):\n",
        "    stra=stra+'o'\n",
        "  elif(ord(i)>=ord('p') and ord(i)<=ord('t')):\n",
        "    stra=stra+'u'\n",
        "  elif(ord(i)>=ord('v') and ord(i)<=ord('z')):\n",
        "    stra=stra+'a'\n",
        "print(stra)"
      ],
      "execution_count": 0,
      "outputs": [
        {
          "output_type": "stream",
          "text": [
            "orange\n",
            "puboif\n"
          ],
          "name": "stdout"
        }
      ]
    },
    {
      "cell_type": "markdown",
      "metadata": {
        "id": "R6klgihzLX9L",
        "colab_type": "text"
      },
      "source": [
        "Accept input as a string and display sum of digits as the output \n",
        "- input:Appli123cation456 \n",
        "- Output: 21\n"
      ]
    },
    {
      "cell_type": "code",
      "metadata": {
        "id": "SwmacgqgIvZ-",
        "colab_type": "code",
        "outputId": "256171c2-4ad9-49e5-8b88-b0458bb317c4",
        "colab": {
          "base_uri": "https://localhost:8080/",
          "height": 50
        }
      },
      "source": [
        "st=input()\n",
        "c=0\n",
        "for i in st:\n",
        "  if(i.isdigit()):\n",
        "    c+=int(i)\n",
        "print(c)"
      ],
      "execution_count": 0,
      "outputs": [
        {
          "output_type": "stream",
          "text": [
            "Appli123cation456\n",
            "21\n"
          ],
          "name": "stdout"
        }
      ]
    },
    {
      "cell_type": "markdown",
      "metadata": {
        "id": "d1Lq5tYZL19v",
        "colab_type": "text"
      },
      "source": [
        "Write a program to prompt for a score between 0.0 and 1.0. If the score is out of range, print an error. If the score is between 0.0 and 1.0, print a grade using the following table:\n",
        "- Score Grade\n",
        "- ->= 0.9 A\n",
        "- ->= 0.8 B\n",
        "- ->= 0.7 C\n",
        "- ->= 0.6 D\n",
        "- < 0.6 F\n",
        "- If the user enters a value out of range, print a suitable error message and exit. For the test, enter a score of 0.85\n"
      ]
    },
    {
      "cell_type": "code",
      "metadata": {
        "id": "-v973EM9Lprf",
        "colab_type": "code",
        "outputId": "483c6d5c-620a-4319-c6c8-b47a3503e562",
        "colab": {
          "base_uri": "https://localhost:8080/",
          "height": 50
        }
      },
      "source": [
        "a=float(input())\n",
        "if(a>1.0):\n",
        "  print(\"Enter valid score\")\n",
        "elif(a>=0.9):\n",
        "  print(\"A\")\n",
        "elif(a>=0.8):\n",
        "  print(\"B\")\n",
        "elif(a>=0.7):\n",
        "  print(\"C\")\n",
        "elif(a>=0.6):\n",
        "  print(\"D\")\n",
        "else:\n",
        "  print(\"F\")"
      ],
      "execution_count": 0,
      "outputs": [
        {
          "output_type": "stream",
          "text": [
            "0.85\n",
            "B\n"
          ],
          "name": "stdout"
        }
      ]
    },
    {
      "cell_type": "markdown",
      "metadata": {
        "id": "p39V5jXuNVkQ",
        "colab_type": "text"
      },
      "source": [
        "Write a Python program which iterates the integers from 1 to 50. For multiples of three print \"Fizz\" instead of the number and for the multiples of five print \"Buzz\". For numbers which are multiples of both three and five print \"FizzBuzz\".\n",
        "- Sample Output :\n",
        "- fizzbuzz\n",
        "- 1\n",
        "- 2\n",
        "- fizz\n",
        "- 4\n",
        "- buzz"
      ]
    },
    {
      "cell_type": "code",
      "metadata": {
        "id": "FThU7DwaMwSz",
        "colab_type": "code",
        "outputId": "856f92d5-6da7-4087-8870-0c21f67ac07a",
        "colab": {
          "base_uri": "https://localhost:8080/",
          "height": 857
        }
      },
      "source": [
        "for i in range(1,51):\n",
        "  if(i%3==0 and i%5==0):\n",
        "    print(\"fizzbuzz\")\n",
        "  elif(i%3==0):\n",
        "    print(\"fizz\")\n",
        "  elif(i%5==0):\n",
        "    print(\"buzz\")\n",
        "  else:\n",
        "    print(i)"
      ],
      "execution_count": 0,
      "outputs": [
        {
          "output_type": "stream",
          "text": [
            "1\n",
            "2\n",
            "fizz\n",
            "4\n",
            "buzz\n",
            "fizz\n",
            "7\n",
            "8\n",
            "fizz\n",
            "buzz\n",
            "11\n",
            "fizz\n",
            "13\n",
            "14\n",
            "fizzbuzz\n",
            "16\n",
            "17\n",
            "fizz\n",
            "19\n",
            "buzz\n",
            "fizz\n",
            "22\n",
            "23\n",
            "fizz\n",
            "buzz\n",
            "26\n",
            "fizz\n",
            "28\n",
            "29\n",
            "fizzbuzz\n",
            "31\n",
            "32\n",
            "fizz\n",
            "34\n",
            "buzz\n",
            "fizz\n",
            "37\n",
            "38\n",
            "fizz\n",
            "buzz\n",
            "41\n",
            "fizz\n",
            "43\n",
            "44\n",
            "fizzbuzz\n",
            "46\n",
            "47\n",
            "fizz\n",
            "49\n",
            "buzz\n"
          ],
          "name": "stdout"
        }
      ]
    },
    {
      "cell_type": "markdown",
      "metadata": {
        "id": "CR6w1ETDOQwN",
        "colab_type": "text"
      },
      "source": [
        "Write a Python program to find the median of three values.\n",
        "- Expected Output:\n",
        "- Input first number: 26                                            \n",
        "- Input second number: 15                                                \n",
        "- Input third number: 29                                                  \n",
        "- The median is 26\n"
      ]
    },
    {
      "cell_type": "code",
      "metadata": {
        "id": "-nIrR19hOKQi",
        "colab_type": "code",
        "outputId": "199ae43c-3d67-45ae-bdfe-279e8eb02e9c",
        "colab": {
          "base_uri": "https://localhost:8080/",
          "height": 84
        }
      },
      "source": [
        "a=int(input(\"Input first number: \"))\n",
        "b=int(input(\"Input second number: \"))\n",
        "c=int(input(\"Input third number: \"))\n",
        "if(b<=a<=c or c<=a<=b):\n",
        "  print(\"Median is\",a)\n",
        "elif(a<=b<=c or c<=b<=a):\n",
        "  print(\"Median is\",b)\n",
        "else:\n",
        "  print(\"Median is\",c)"
      ],
      "execution_count": 0,
      "outputs": [
        {
          "output_type": "stream",
          "text": [
            "Input first number: 26\n",
            "Input second number: 15\n",
            "Input third number: 29\n",
            "Median is 26\n"
          ],
          "name": "stdout"
        }
      ]
    }
  ]
}