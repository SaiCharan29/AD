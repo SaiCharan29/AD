{
  "nbformat": 4,
  "nbformat_minor": 0,
  "metadata": {
    "colab": {
      "name": "Assignment(05-06-2020)",
      "provenance": [],
      "collapsed_sections": [],
      "authorship_tag": "ABX9TyPZvK8U1xGYsXzhQWEYCXnx",
      "include_colab_link": true
    },
    "kernelspec": {
      "name": "python3",
      "display_name": "Python 3"
    }
  },
  "cells": [
    {
      "cell_type": "markdown",
      "metadata": {
        "id": "view-in-github",
        "colab_type": "text"
      },
      "source": [
        "<a href=\"https://colab.research.google.com/github/SaiCharan29/AD/blob/master/Assignment(05_06_2020).ipynb\" target=\"_parent\"><img src=\"https://colab.research.google.com/assets/colab-badge.svg\" alt=\"Open In Colab\"/></a>"
      ]
    },
    {
      "cell_type": "markdown",
      "metadata": {
        "id": "7vBCL9dfto9D",
        "colab_type": "text"
      },
      "source": [
        "# CSE-221710313019-K Sai Charan"
      ]
    },
    {
      "cell_type": "code",
      "metadata": {
        "id": "V9BQ99g-u0ZI",
        "colab_type": "code",
        "colab": {}
      },
      "source": [
        "import pandas as pd\n",
        "import numpy as np"
      ],
      "execution_count": 0,
      "outputs": []
    },
    {
      "cell_type": "markdown",
      "metadata": {
        "id": "vz5_fjZ3tvJC",
        "colab_type": "text"
      },
      "source": [
        "### [Data Series]\n",
        "- Write a Python program to add, subtract, multiple and divide two Pandas Series. \n",
        "  - Sample Series: \n",
        "[2, 4, 6, 8, 10], [1, 3, 5, 7, 9]\n",
        "  - Sample Output:\n",
        "[2, 4, 6, 8, 10] + [1, 3, 5, 7, 9] = [3, 7, 11, 15, 19]\n"
      ]
    },
    {
      "cell_type": "code",
      "metadata": {
        "id": "JQd06mmjtuVC",
        "colab_type": "code",
        "outputId": "47a2b685-cb88-44a9-a954-3d1712881be1",
        "colab": {
          "base_uri": "https://localhost:8080/",
          "height": 84
        }
      },
      "source": [
        "s1=pd.Series([2,4,6,8,10])\n",
        "s2=pd.Series([1,3,5,7,9])\n",
        "print(str(list(s1)),\"+\",str(list(s2)),\"=\",str(list(s1+s2)))\n",
        "print(str(list(s1)),\"-\",str(list(s2)),\"=\",str(list(s1-s2)))\n",
        "print(str(list(s1)),\"*\",str(list(s2)),\"=\",str(list(s1*s2)))\n",
        "print(str(list(s1)),\"/\",str(list(s2)),\"=\",str(list(s1/s2)))"
      ],
      "execution_count": 25,
      "outputs": [
        {
          "output_type": "stream",
          "text": [
            "[2, 4, 6, 8, 10] + [1, 3, 5, 7, 9] = [3, 7, 11, 15, 19]\n",
            "[2, 4, 6, 8, 10] - [1, 3, 5, 7, 9] = [1, 1, 1, 1, 1]\n",
            "[2, 4, 6, 8, 10] * [1, 3, 5, 7, 9] = [2, 12, 30, 56, 90]\n",
            "[2, 4, 6, 8, 10] / [1, 3, 5, 7, 9] = [2.0, 1.3333333333333333, 1.2, 1.1428571428571428, 1.1111111111111112]\n"
          ],
          "name": "stdout"
        }
      ]
    },
    {
      "cell_type": "markdown",
      "metadata": {
        "id": "i4hlFtSfvRkj",
        "colab_type": "text"
      },
      "source": [
        "### [Quartiles] \n",
        "Write a Pandas program to compute the minimum, 25th percentile, median, 75th, and maximum of a given series. \n",
        "- Sample Output:\n",
        "  - Original Series:\n",
        "    - 0 3.000938\n",
        "    - 1 11.370722\n",
        "    - 2 14.612143\n",
        "    - 3 8.990256\n",
        "    - 4 13.925283\n",
        "    - 5 12.056875\n",
        ".... 17 14.118931\n",
        "    - 18 8.247458\n",
        "    - 19 5.526727\n",
        "dtype: float64\n",
        "  -Minimum, 25th percentile, median, 75th, and maximum of a given series:\n",
        "    - [ 3.00093811 8.09463867 10.23353705 12.21537733 14.61214321]\n",
        "\n"
      ]
    },
    {
      "cell_type": "code",
      "metadata": {
        "id": "a_huOcxZuv2t",
        "colab_type": "code",
        "outputId": "bf71fddf-6834-485f-f6b2-3c971d6a5564",
        "colab": {
          "base_uri": "https://localhost:8080/",
          "height": 101
        }
      },
      "source": [
        "s2=pd.Series([2,4,6,8,10])\n",
        "m=s2.describe()\n",
        "print(m[3:len(m)-1])"
      ],
      "execution_count": 26,
      "outputs": [
        {
          "output_type": "stream",
          "text": [
            "min    2.0\n",
            "25%    4.0\n",
            "50%    6.0\n",
            "75%    8.0\n",
            "dtype: float64\n"
          ],
          "name": "stdout"
        }
      ]
    },
    {
      "cell_type": "markdown",
      "metadata": {
        "id": "ATwGmwXkxV49",
        "colab_type": "text"
      },
      "source": [
        "### [List Difference] \n",
        "Write a Pandas program to get the items of a given series not present in another given series. \n",
        "- Sample Output:\n",
        "  -Original Series:\n",
        "    - sr1:\n",
        "      - 0 1\n",
        "      - 1 2\n",
        "      - 2 3\n",
        "      - 3 4\n",
        "      - 4 5\n",
        "dtype: int64\n",
        "    - sr2:\n",
        "      - 0 2\n",
        "      - 1 4\n",
        "      - 2 6\n",
        "      - 3 8\n",
        "      - 4 10\n",
        "      dtype: int64\n",
        "    - Items of sr1 not present in sr2:\n",
        "      - 0 1\n",
        "      - 2 3\n",
        "      - 4 5\n",
        "dtype: int64\n"
      ]
    },
    {
      "cell_type": "code",
      "metadata": {
        "id": "u6CO4AMBw-p6",
        "colab_type": "code",
        "outputId": "9f07a21b-b9f9-47eb-ccc4-f24f76b15fec",
        "colab": {
          "base_uri": "https://localhost:8080/",
          "height": 84
        }
      },
      "source": [
        "s1=pd.Series([1,2,3,4,5])\n",
        "s2=pd.Series([2,4,6,8,10])\n",
        "a=[i for i in list(s1) if i not in list(s2)]\n",
        "print(pd.Series(a))"
      ],
      "execution_count": 27,
      "outputs": [
        {
          "output_type": "stream",
          "text": [
            "0    1\n",
            "1    3\n",
            "2    5\n",
            "dtype: int64\n"
          ],
          "name": "stdout"
        }
      ]
    },
    {
      "cell_type": "markdown",
      "metadata": {
        "id": "APJ7kgNYzMgK",
        "colab_type": "text"
      },
      "source": [
        "### [Filter Words with Multiple Vowels] \n",
        "Write a Pandas program to filter words from a given series that contain at least two vowels. \n",
        "- Sample Output:\n",
        "  - Original Series:\n",
        "      - 0 Red\n",
        "      - 1 Green\n",
        "      - 2 Orange\n",
        "      - 3 Pink\n",
        "      - 4 Yellow\n",
        "      - 5 White\n",
        "      - dtype: object\n",
        "\n",
        "  - Filtered words:\n",
        "      - 1 Green\n",
        "      - 2 Orange\n",
        "      - 4 Yellow\n",
        "      - 5 White\n",
        "      - dtype: object\n"
      ]
    },
    {
      "cell_type": "code",
      "metadata": {
        "id": "Er6Voarpy8TY",
        "colab_type": "code",
        "outputId": "5d387b6b-5107-49b0-f308-9e45310196c0",
        "colab": {
          "base_uri": "https://localhost:8080/",
          "height": 101
        }
      },
      "source": [
        "s1=pd.Series([\"Red\",\"Green\",\"Orange\",\"Pink\",\"Yellow\",\"White\"])\n",
        "a=[]\n",
        "for i in list(s1):\n",
        "  c=0\n",
        "  for j in i:\n",
        "    if(j in list('aeiou')):\n",
        "      c+=1\n",
        "  if(c>=2):\n",
        "    a.append(i)\n",
        "print(pd.Series(a))"
      ],
      "execution_count": 28,
      "outputs": [
        {
          "output_type": "stream",
          "text": [
            "0     Green\n",
            "1    Orange\n",
            "2    Yellow\n",
            "3     White\n",
            "dtype: object\n"
          ],
          "name": "stdout"
        }
      ]
    },
    {
      "cell_type": "markdown",
      "metadata": {
        "id": "GSSMD7au0paC",
        "colab_type": "text"
      },
      "source": [
        "Consider the following as my DataFrame,Write a Pandas program to select the rows where the number of attempts in the examination is greater than 2."
      ]
    },
    {
      "cell_type": "code",
      "metadata": {
        "id": "abcaiNYD0dEv",
        "colab_type": "code",
        "outputId": "eedc0860-5712-4d6e-bbc9-4f4ec91c9b61",
        "colab": {
          "base_uri": "https://localhost:8080/",
          "height": 84
        }
      },
      "source": [
        "d={'name':['Anastasia','Dima','Katherine','James','Emily','Michael','Matthew','Laura','Kevin','Jonas'],'score':[12.5,9,16.5,np.nan,9,20,14.5,np.nan,8,19],'attempts':[1,3,2,3,2,3,1,1,2,1],'qualify':['yes','no','yes','no','no','yes','yes','no','no','yes']}\n",
        "df=pd.DataFrame(d)\n",
        "print(df[df['attempts']>2])"
      ],
      "execution_count": 29,
      "outputs": [
        {
          "output_type": "stream",
          "text": [
            "      name  score  attempts qualify\n",
            "1     Dima    9.0         3      no\n",
            "3    James    NaN         3      no\n",
            "5  Michael   20.0         3     yes\n"
          ],
          "name": "stdout"
        }
      ]
    }
  ]
}