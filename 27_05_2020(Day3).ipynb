{
  "nbformat": 4,
  "nbformat_minor": 0,
  "metadata": {
    "colab": {
      "name": "27-05-2020(Day2)",
      "provenance": [],
      "collapsed_sections": []
    },
    "kernelspec": {
      "name": "python3",
      "display_name": "Python 3"
    }
  },
  "cells": [
    {
      "cell_type": "markdown",
      "metadata": {
        "id": "iGd2CjOVdyyy",
        "colab_type": "text"
      },
      "source": [
        "# Python\n",
        "## Python\n",
        "### Python\n",
        "#### Python\n",
        "##### Python\n",
        "###### Python"
      ]
    },
    {
      "cell_type": "markdown",
      "metadata": {
        "id": "woPeJ7k3d3qn",
        "colab_type": "text"
      },
      "source": [
        "# Ordered List\n",
        "1. List Item1\n",
        "2. List Item2\n",
        "3. List Item3"
      ]
    },
    {
      "cell_type": "markdown",
      "metadata": {
        "id": "1OZZKpVHd_O9",
        "colab_type": "text"
      },
      "source": [
        "# UnOrdered List\n",
        "- List Item1\n",
        "    - Item 1\n",
        "    - Item2\n",
        "- List Item2\n",
        "- List Item3"
      ]
    },
    {
      "cell_type": "markdown",
      "metadata": {
        "id": "K2FKoN9xeCQ6",
        "colab_type": "text"
      },
      "source": [
        "**Bold**\n",
        "*Italic*"
      ]
    },
    {
      "cell_type": "markdown",
      "metadata": {
        "id": "UVCbJr-5eHdE",
        "colab_type": "text"
      },
      "source": [
        "[Click here](https://moodle.dspsinstitute.com/)"
      ]
    },
    {
      "cell_type": "markdown",
      "metadata": {
        "id": "yunaYoI9eOZM",
        "colab_type": "text"
      },
      "source": [
        "![image](https://thumbs.dreamstime.com/b/internship-concept-chart-keywords-icons-50410024.jpg)"
      ]
    },
    {
      "cell_type": "markdown",
      "metadata": {
        "id": "vA7J-t0reQv2",
        "colab_type": "text"
      },
      "source": [
        "<img src=\"https://thumbs.dreamstime.com/b/internship-concept-chart-keywords-icons-50410024.jpg\" width=600 height=400>"
      ]
    },
    {
      "cell_type": "code",
      "metadata": {
        "id": "tQuw_5a2gV8q",
        "colab_type": "code",
        "colab": {
          "base_uri": "https://localhost:8080/",
          "height": 34
        },
        "outputId": "b4eb0135-313e-4c13-b084-cfa6a02c52d1"
      },
      "source": [
        "a=2\n",
        "b=2.4\n",
        "c=2+3j\n",
        "d=\"py\"\n",
        "print(type(a),type(b),type(c),type(d))"
      ],
      "execution_count": 31,
      "outputs": [
        {
          "output_type": "stream",
          "text": [
            "<class 'int'> <class 'float'> <class 'complex'> <class 'str'>\n"
          ],
          "name": "stdout"
        }
      ]
    },
    {
      "cell_type": "code",
      "metadata": {
        "id": "aEOfewWUganY",
        "colab_type": "code",
        "colab": {
          "base_uri": "https://localhost:8080/",
          "height": 34
        },
        "outputId": "9ad0d210-c15e-47bf-d5e6-ac7bdeef1848"
      },
      "source": [
        "c1=4+5j\n",
        "c2=complex(2,3)\n",
        "print(c1+c2,c1.real,c1.imag)"
      ],
      "execution_count": 32,
      "outputs": [
        {
          "output_type": "stream",
          "text": [
            "(6+8j) 4.0 5.0\n"
          ],
          "name": "stdout"
        }
      ]
    },
    {
      "cell_type": "code",
      "metadata": {
        "id": "G98U-HAihE-1",
        "colab_type": "code",
        "colab": {
          "base_uri": "https://localhost:8080/",
          "height": 67
        },
        "outputId": "749ed29f-da5d-4214-ec42-1afa855d22d1"
      },
      "source": [
        "a=int(input(\"Enter a value \"))\n",
        "b=int(input(\"Enter a value \"))\n",
        "print(\"sum=\",a+b)"
      ],
      "execution_count": 34,
      "outputs": [
        {
          "output_type": "stream",
          "text": [
            "Enter a value 5\n",
            "Enter a value 6\n",
            "sum= 11\n"
          ],
          "name": "stdout"
        }
      ]
    },
    {
      "cell_type": "code",
      "metadata": {
        "id": "stf7zDHqiE4j",
        "colab_type": "code",
        "colab": {
          "base_uri": "https://localhost:8080/",
          "height": 50
        },
        "outputId": "936789be-980c-42b8-85ed-ba22cdd4bf37"
      },
      "source": [
        "a=input()\n",
        "print(\"Welcome \"+a+\"!!\")"
      ],
      "execution_count": 35,
      "outputs": [
        {
          "output_type": "stream",
          "text": [
            "charan\n",
            "Welcome charan!!\n"
          ],
          "name": "stdout"
        }
      ]
    },
    {
      "cell_type": "code",
      "metadata": {
        "id": "GLnD-p3CitRU",
        "colab_type": "code",
        "colab": {
          "base_uri": "https://localhost:8080/",
          "height": 67
        },
        "outputId": "c123112a-0a75-4697-ad71-f362f17099d9"
      },
      "source": [
        "a=15\n",
        "b=6\n",
        "print(a+b,end=\" \")\n",
        "print(a-b)\n",
        "print(a+b,a-b)\n",
        "print(a+b,a-b,sep=\", \")"
      ],
      "execution_count": 36,
      "outputs": [
        {
          "output_type": "stream",
          "text": [
            "21 9\n",
            "21 9\n",
            "21, 9\n"
          ],
          "name": "stdout"
        }
      ]
    },
    {
      "cell_type": "code",
      "metadata": {
        "id": "-zUtKadUjnO2",
        "colab_type": "code",
        "colab": {
          "base_uri": "https://localhost:8080/",
          "height": 34
        },
        "outputId": "11057284-2d31-4918-c657-f1e9242fce8e"
      },
      "source": [
        "a=15\n",
        "b=6\n",
        "print(a+b,a-b,a*b,a/b,a%b,a//b,a**b,sep=', ')"
      ],
      "execution_count": 37,
      "outputs": [
        {
          "output_type": "stream",
          "text": [
            "21, 9, 90, 2.5, 3, 2, 11390625\n"
          ],
          "name": "stdout"
        }
      ]
    },
    {
      "cell_type": "code",
      "metadata": {
        "id": "CASa8yHslHUH",
        "colab_type": "code",
        "colab": {
          "base_uri": "https://localhost:8080/",
          "height": 34
        },
        "outputId": "d635e4ff-cde9-432a-8789-a31dea69539c"
      },
      "source": [
        "a=3\n",
        "b=6\n",
        "print(a<b,a>b,a<=b,a>=b,a==b,a!=b,sep=', ')"
      ],
      "execution_count": 38,
      "outputs": [
        {
          "output_type": "stream",
          "text": [
            "True, False, True, False, False, True\n"
          ],
          "name": "stdout"
        }
      ]
    },
    {
      "cell_type": "code",
      "metadata": {
        "id": "LP9FTddjm6O_",
        "colab_type": "code",
        "colab": {
          "base_uri": "https://localhost:8080/",
          "height": 34
        },
        "outputId": "27779e74-8bcb-4b3b-c9d4-8198f38733ff"
      },
      "source": [
        "print(a<b and a!=b,a>b or a!=b , not a ,sep=', ')"
      ],
      "execution_count": 23,
      "outputs": [
        {
          "output_type": "stream",
          "text": [
            "True, True, False\n"
          ],
          "name": "stdout"
        }
      ]
    },
    {
      "cell_type": "code",
      "metadata": {
        "id": "xTHi2yCYomFe",
        "colab_type": "code",
        "colab": {
          "base_uri": "https://localhost:8080/",
          "height": 34
        },
        "outputId": "722c291c-ea58-462a-c6e9-e20ae3d1a84f"
      },
      "source": [
        "li=[1,2,3,4]\n",
        "print(1 in li, 5 in li, 3 not in li, sep=\",\")"
      ],
      "execution_count": 24,
      "outputs": [
        {
          "output_type": "stream",
          "text": [
            "True,False,False\n"
          ],
          "name": "stdout"
        }
      ]
    },
    {
      "cell_type": "code",
      "metadata": {
        "id": "LxqjSHXIpk7b",
        "colab_type": "code",
        "colab": {
          "base_uri": "https://localhost:8080/",
          "height": 34
        },
        "outputId": "95088554-52ec-4f83-f3af-cb8970755825"
      },
      "source": [
        "if a<b:\n",
        "  print(a,\"is smaller than\",b)\n",
        "elif a>b:\n",
        "  print(b,\"is smaller than\",a)\n",
        "else:\n",
        "  print(\"both are equal\")"
      ],
      "execution_count": 27,
      "outputs": [
        {
          "output_type": "stream",
          "text": [
            "3 is smaller than 6\n"
          ],
          "name": "stdout"
        }
      ]
    },
    {
      "cell_type": "code",
      "metadata": {
        "id": "1cmQNB3BrgYP",
        "colab_type": "code",
        "colab": {
          "base_uri": "https://localhost:8080/",
          "height": 34
        },
        "outputId": "6abd77ac-0ac4-472e-dbea-f1f503bd2974"
      },
      "source": [
        "a=3\n",
        "b=6\n",
        "c=2\n",
        "if a>b and a>c:\n",
        "  print(a,\"is largest\")\n",
        "elif b>c:\n",
        "  print(b,\"is largest\")\n",
        "else:\n",
        "  print(c,\"is largest\")"
      ],
      "execution_count": 28,
      "outputs": [
        {
          "output_type": "stream",
          "text": [
            "6 is largest\n"
          ],
          "name": "stdout"
        }
      ]
    },
    {
      "cell_type": "code",
      "metadata": {
        "id": "oAa3GHWDuHSb",
        "colab_type": "code",
        "colab": {
          "base_uri": "https://localhost:8080/",
          "height": 118
        },
        "outputId": "95204cdf-0d7b-442e-993c-76ed8bd910bb"
      },
      "source": [
        "n=int(input())\n",
        "i=0\n",
        "while(i<n):\n",
        "  print(\"Py\")\n",
        "  i+=1"
      ],
      "execution_count": 30,
      "outputs": [
        {
          "output_type": "stream",
          "text": [
            "5\n",
            "Py\n",
            "Py\n",
            "Py\n",
            "Py\n",
            "Py\n"
          ],
          "name": "stdout"
        }
      ]
    },
    {
      "cell_type": "code",
      "metadata": {
        "id": "X2K76Y9AvsIl",
        "colab_type": "code",
        "colab": {}
      },
      "source": [
        ""
      ],
      "execution_count": 0,
      "outputs": []
    }
  ]
}
