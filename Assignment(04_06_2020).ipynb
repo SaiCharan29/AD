{
  "nbformat": 4,
  "nbformat_minor": 0,
  "metadata": {
    "kernelspec": {
      "display_name": "Python 3",
      "language": "python",
      "name": "python3"
    },
    "language_info": {
      "codemirror_mode": {
        "name": "ipython",
        "version": 3
      },
      "file_extension": ".py",
      "mimetype": "text/x-python",
      "name": "python",
      "nbconvert_exporter": "python",
      "pygments_lexer": "ipython3",
      "version": "3.7.6"
    },
    "colab": {
      "name": "Assignment(04-06-2020).ipynb",
      "provenance": [],
      "include_colab_link": true
    }
  },
  "cells": [
    {
      "cell_type": "markdown",
      "metadata": {
        "id": "view-in-github",
        "colab_type": "text"
      },
      "source": [
        "<a href=\"https://colab.research.google.com/github/SaiCharan29/AD/blob/master/Assignment(04_06_2020).ipynb\" target=\"_parent\"><img src=\"https://colab.research.google.com/assets/colab-badge.svg\" alt=\"Open In Colab\"/></a>"
      ]
    },
    {
      "cell_type": "markdown",
      "metadata": {
        "id": "X51aUkzngFKt",
        "colab_type": "text"
      },
      "source": [
        "# CSE-221710313019-K Sai Charan"
      ]
    },
    {
      "cell_type": "markdown",
      "metadata": {
        "id": "Rbj0XLMIgFKw",
        "colab_type": "text"
      },
      "source": [
        "### [Reversing an Array] \n",
        "Write a NumPy program to reverse an array (first element becomes last). \n",
        "- Original array:\n",
        "  [12 13 14 15 16 17 18 19 20 21 22 23 24 25 26 27 28 29 30 31 32 33 34 35 36 37]\n",
        "- Reverse array:\n",
        "  [37 36 35 34 33 32 31 30 29 28 27 26 25 24 23 22 21 20 19 18 17 16 15 14 13 12]"
      ]
    },
    {
      "cell_type": "code",
      "metadata": {
        "id": "TVbg6laRgFKz",
        "colab_type": "code",
        "colab": {},
        "outputId": "e36b738e-ef2c-4582-dac4-a68703ed115e"
      },
      "source": [
        "import numpy as np\n",
        "help(np.array)"
      ],
      "execution_count": 0,
      "outputs": [
        {
          "output_type": "stream",
          "text": [
            "Help on built-in function array in module numpy:\n",
            "\n",
            "array(...)\n",
            "    array(object, dtype=None, copy=True, order='K', subok=False, ndmin=0)\n",
            "    \n",
            "    Create an array.\n",
            "    \n",
            "    Parameters\n",
            "    ----------\n",
            "    object : array_like\n",
            "        An array, any object exposing the array interface, an object whose\n",
            "        __array__ method returns an array, or any (nested) sequence.\n",
            "    dtype : data-type, optional\n",
            "        The desired data-type for the array.  If not given, then the type will\n",
            "        be determined as the minimum type required to hold the objects in the\n",
            "        sequence.\n",
            "    copy : bool, optional\n",
            "        If true (default), then the object is copied.  Otherwise, a copy will\n",
            "        only be made if __array__ returns a copy, if obj is a nested sequence,\n",
            "        or if a copy is needed to satisfy any of the other requirements\n",
            "        (`dtype`, `order`, etc.).\n",
            "    order : {'K', 'A', 'C', 'F'}, optional\n",
            "        Specify the memory layout of the array. If object is not an array, the\n",
            "        newly created array will be in C order (row major) unless 'F' is\n",
            "        specified, in which case it will be in Fortran order (column major).\n",
            "        If object is an array the following holds.\n",
            "    \n",
            "        ===== ========= ===================================================\n",
            "        order  no copy                     copy=True\n",
            "        ===== ========= ===================================================\n",
            "        'K'   unchanged F & C order preserved, otherwise most similar order\n",
            "        'A'   unchanged F order if input is F and not C, otherwise C order\n",
            "        'C'   C order   C order\n",
            "        'F'   F order   F order\n",
            "        ===== ========= ===================================================\n",
            "    \n",
            "        When ``copy=False`` and a copy is made for other reasons, the result is\n",
            "        the same as if ``copy=True``, with some exceptions for `A`, see the\n",
            "        Notes section. The default order is 'K'.\n",
            "    subok : bool, optional\n",
            "        If True, then sub-classes will be passed-through, otherwise\n",
            "        the returned array will be forced to be a base-class array (default).\n",
            "    ndmin : int, optional\n",
            "        Specifies the minimum number of dimensions that the resulting\n",
            "        array should have.  Ones will be pre-pended to the shape as\n",
            "        needed to meet this requirement.\n",
            "    \n",
            "    Returns\n",
            "    -------\n",
            "    out : ndarray\n",
            "        An array object satisfying the specified requirements.\n",
            "    \n",
            "    See Also\n",
            "    --------\n",
            "    empty_like : Return an empty array with shape and type of input.\n",
            "    ones_like : Return an array of ones with shape and type of input.\n",
            "    zeros_like : Return an array of zeros with shape and type of input.\n",
            "    full_like : Return a new array with shape of input filled with value.\n",
            "    empty : Return a new uninitialized array.\n",
            "    ones : Return a new array setting values to one.\n",
            "    zeros : Return a new array setting values to zero.\n",
            "    full : Return a new array of given shape filled with value.\n",
            "    \n",
            "    \n",
            "    Notes\n",
            "    -----\n",
            "    When order is 'A' and `object` is an array in neither 'C' nor 'F' order,\n",
            "    and a copy is forced by a change in dtype, then the order of the result is\n",
            "    not necessarily 'C' as expected. This is likely a bug.\n",
            "    \n",
            "    Examples\n",
            "    --------\n",
            "    >>> np.array([1, 2, 3])\n",
            "    array([1, 2, 3])\n",
            "    \n",
            "    Upcasting:\n",
            "    \n",
            "    >>> np.array([1, 2, 3.0])\n",
            "    array([ 1.,  2.,  3.])\n",
            "    \n",
            "    More than one dimension:\n",
            "    \n",
            "    >>> np.array([[1, 2], [3, 4]])\n",
            "    array([[1, 2],\n",
            "           [3, 4]])\n",
            "    \n",
            "    Minimum dimensions 2:\n",
            "    \n",
            "    >>> np.array([1, 2, 3], ndmin=2)\n",
            "    array([[1, 2, 3]])\n",
            "    \n",
            "    Type provided:\n",
            "    \n",
            "    >>> np.array([1, 2, 3], dtype=complex)\n",
            "    array([ 1.+0.j,  2.+0.j,  3.+0.j])\n",
            "    \n",
            "    Data-type consisting of more than one element:\n",
            "    \n",
            "    >>> x = np.array([(1,2),(3,4)],dtype=[('a','<i4'),('b','<i4')])\n",
            "    >>> x['a']\n",
            "    array([1, 3])\n",
            "    \n",
            "    Creating an array from sub-classes:\n",
            "    \n",
            "    >>> np.array(np.mat('1 2; 3 4'))\n",
            "    array([[1, 2],\n",
            "           [3, 4]])\n",
            "    \n",
            "    >>> np.array(np.mat('1 2; 3 4'), subok=True)\n",
            "    matrix([[1, 2],\n",
            "            [3, 4]])\n",
            "\n"
          ],
          "name": "stdout"
        }
      ]
    },
    {
      "cell_type": "code",
      "metadata": {
        "id": "k8D44LeJgFLB",
        "colab_type": "code",
        "colab": {},
        "outputId": "06f0b2d7-fd08-46c4-872e-2e62a44f5424"
      },
      "source": [
        "ar1=np.arange(12,38)\n",
        "print(ar1)\n",
        "ar2=ar1[::-1]\n",
        "print(ar2)"
      ],
      "execution_count": 0,
      "outputs": [
        {
          "output_type": "stream",
          "text": [
            "[12 13 14 15 16 17 18 19 20 21 22 23 24 25 26 27 28 29 30 31 32 33 34 35\n",
            " 36 37]\n",
            "[37 36 35 34 33 32 31 30 29 28 27 26 25 24 23 22 21 20 19 18 17 16 15 14\n",
            " 13 12]\n"
          ],
          "name": "stdout"
        }
      ]
    },
    {
      "cell_type": "markdown",
      "metadata": {
        "id": "Lyz151XKgFLI",
        "colab_type": "text"
      },
      "source": [
        "### [Make Border 1] \n",
        "Write a NumPy program to create a 2d array with 1 on the border and 0 inside. \n",
        "- Original array:\n",
        "- [[ 1. 1. 1. 1. 1.]\n",
        "- ...................\n",
        "- [ 1. 1. 1. 1. 1.]]\n",
        "- 1 on the border and 0 inside in the array\n",
        "- Expected output:\n",
        "- [[ 1. 1. 1. 1. 1.]\n",
        "-  [1. 0. 0. 0. 1.]\n",
        "- ……………..\n",
        "-  [1. 0. 0. 0. 1.]\n",
        "- [ 1. 1. 1. 1. 1.]]\n"
      ]
    },
    {
      "cell_type": "code",
      "metadata": {
        "id": "hqQBwz2FgFLL",
        "colab_type": "code",
        "colab": {},
        "outputId": "32ff64d4-15b8-4012-e212-974621cb0f7b"
      },
      "source": [
        "a=int(input())\n",
        "b=int(input())\n",
        "a1=np.ones((a,b),dtype=\"int32\")\n",
        "print(a1)"
      ],
      "execution_count": 0,
      "outputs": [
        {
          "output_type": "stream",
          "text": [
            "5\n",
            "5\n",
            "[[1 1 1 1 1]\n",
            " [1 1 1 1 1]\n",
            " [1 1 1 1 1]\n",
            " [1 1 1 1 1]\n",
            " [1 1 1 1 1]]\n"
          ],
          "name": "stdout"
        }
      ]
    },
    {
      "cell_type": "code",
      "metadata": {
        "id": "InmGzFJRgFLV",
        "colab_type": "code",
        "colab": {},
        "outputId": "6025fae8-df75-4a57-eb3e-5b00ad960d1b"
      },
      "source": [
        "a1[1:a-1,1:b-1]=0\n",
        "print(a1)"
      ],
      "execution_count": 0,
      "outputs": [
        {
          "output_type": "stream",
          "text": [
            "[[1 1 1 1 1]\n",
            " [1 0 0 0 1]\n",
            " [1 0 0 0 1]\n",
            " [1 0 0 0 1]\n",
            " [1 1 1 1 1]]\n"
          ],
          "name": "stdout"
        }
      ]
    },
    {
      "cell_type": "markdown",
      "metadata": {
        "id": "Io_0Q8LNgFLg",
        "colab_type": "text"
      },
      "source": [
        "### [Membership Test] \n",
        "Write a NumPy program to test whether each element of a 1-D array is also present in a second array.\n",
        "- Expected Output:\n",
        " - Array1: [ 0 10 20 40 60]\n",
        " - Array2: [0, 40]\n",
        " - Compare each element of array1 and array2\n",
        " - [ True False False True False]\n"
      ]
    },
    {
      "cell_type": "code",
      "metadata": {
        "id": "yGKin3KdgFLi",
        "colab_type": "code",
        "colab": {},
        "outputId": "bf92c9fd-48a3-4481-a91c-974248fffbdc"
      },
      "source": [
        "a1=np.array([0,10,20,40,60])\n",
        "a2=np.array([0,40])\n",
        "res=[]\n",
        "for i in a1:\n",
        "    if(i in a2):\n",
        "        res.append(True)\n",
        "    else:\n",
        "        res.append(False)\n",
        "res"
      ],
      "execution_count": 0,
      "outputs": [
        {
          "output_type": "execute_result",
          "data": {
            "text/plain": [
              "[True, False, False, True, False]"
            ]
          },
          "metadata": {
            "tags": []
          },
          "execution_count": 19
        }
      ]
    },
    {
      "cell_type": "markdown",
      "metadata": {
        "id": "_FJSw-SUgFLp",
        "colab_type": "text"
      },
      "source": [
        "### [Set Difference] \n",
        "Write a NumPy program to find the set difference of two arrays. The set difference will return the sorted, unique values in array1 that are not in array2.\n",
        "- Expected Output:\n",
        "   - Array1: [ 0 10 20 40 60 80]\n",
        "   - Array2: [10, 30, 40, 50, 70, 90]\n",
        "- Set difference between two arrays:\n",
        "    - [ 0 20 60 80]\n"
      ]
    },
    {
      "cell_type": "code",
      "metadata": {
        "id": "1O5emT25gFLq",
        "colab_type": "code",
        "colab": {},
        "outputId": "6e0bc35c-d949-4e77-b53d-1eb9c39694d6"
      },
      "source": [
        "a1=np.array([0,10,20,40,60,80])\n",
        "a2=np.array([10,30,40,50,70,90])\n",
        "s=[]\n",
        "for i in a1:\n",
        "    if(i not in a2):\n",
        "        s.append(i)\n",
        "s"
      ],
      "execution_count": 0,
      "outputs": [
        {
          "output_type": "execute_result",
          "data": {
            "text/plain": [
              "[0, 20, 60, 80]"
            ]
          },
          "metadata": {
            "tags": []
          },
          "execution_count": 22
        }
      ]
    },
    {
      "cell_type": "markdown",
      "metadata": {
        "id": "8qGbKUg-gFLy",
        "colab_type": "text"
      },
      "source": [
        "### [Formation of Diagonal Matrix] \n",
        "Write a NumPy program to create a 2-D array whose diagonal equals [4, 5, 6, 8] and 0's elsewhere.\n",
        "- Expected Output:\n",
        "    - [[4 0 0 0]\n",
        "    - [0 5 0 0]\n",
        "    - [0 0 6 0]\n",
        "    - [0 0 0 8]]\n"
      ]
    },
    {
      "cell_type": "code",
      "metadata": {
        "id": "Mswp1dlJgFLz",
        "colab_type": "code",
        "colab": {},
        "outputId": "c62527ee-2179-4a53-8c4a-6bf4cd13a109"
      },
      "source": [
        "li=[4,5,6,8]\n",
        "ar1=np.zeros((4,4),dtype=\"int32\")\n",
        "for i in range(len(li)):\n",
        "    ar1[i][i]=li[i]\n",
        "ar1"
      ],
      "execution_count": 0,
      "outputs": [
        {
          "output_type": "execute_result",
          "data": {
            "text/plain": [
              "array([[4, 0, 0, 0],\n",
              "       [0, 5, 0, 0],\n",
              "       [0, 0, 6, 0],\n",
              "       [0, 0, 0, 8]])"
            ]
          },
          "metadata": {
            "tags": []
          },
          "execution_count": 23
        }
      ]
    }
  ]
}