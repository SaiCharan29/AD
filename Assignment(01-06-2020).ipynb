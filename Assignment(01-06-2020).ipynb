{
 "cells": [
  {
   "cell_type": "markdown",
   "metadata": {},
   "source": [
    "# CSE-221710313019-K Sai Charan"
   ]
  },
  {
   "cell_type": "code",
   "execution_count": 2,
   "metadata": {},
   "outputs": [],
   "source": [
    "noun=[\"Man\",\"Teacher\",\"John\",\"Office\",\"America\",\"Car\",\"Banana\",\"Money\",\"Music\",\"Monkey\"]\n",
    "verb=[\"Run\",\"Dance\",\"Slide\",\"Jump\",\"Think\",\"Do\",\"Go\",\"Stand\",\"Smile\",\"Listen\"]"
   ]
  },
  {
   "cell_type": "code",
   "execution_count": 3,
   "metadata": {},
   "outputs": [
    {
     "name": "stdout",
     "output_type": "stream",
     "text": [
      "ListenCar472;\n",
      "Want another password?? enter Y or N\n",
      "Y\n",
      "RunTeacher707+\n",
      "Want another password?? enter Y or N\n",
      "Y\n",
      "JumpMusic499}\n",
      "Want another password?? enter Y or N\n",
      "Y\n",
      "DoMusic415'\n",
      "Want another password?? enter Y or N\n",
      "N\n"
     ]
    }
   ],
   "source": [
    "import random as r\n",
    "import string as s\n",
    "i=0\n",
    "while(i==0 or input()=='Y'):\n",
    "    st3=r.randint(1,1000)\n",
    "    st2=r.choice(noun)\n",
    "    st1=r.choice(verb)\n",
    "    st4=r.choice(list(s.punctuation))\n",
    "    print(st1+st2+str(st3)+st4)\n",
    "    i+=1\n",
    "    print(\"Want another password?? enter Y or N\")\n",
    "    "
   ]
  }
 ],
 "metadata": {
  "kernelspec": {
   "display_name": "Python 3",
   "language": "python",
   "name": "python3"
  },
  "language_info": {
   "codemirror_mode": {
    "name": "ipython",
    "version": 3
   },
   "file_extension": ".py",
   "mimetype": "text/x-python",
   "name": "python",
   "nbconvert_exporter": "python",
   "pygments_lexer": "ipython3",
   "version": "3.7.3"
  }
 },
 "nbformat": 4,
 "nbformat_minor": 2
}
