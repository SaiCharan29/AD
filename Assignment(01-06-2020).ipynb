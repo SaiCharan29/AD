{
 "cells": [
  {
   "cell_type": "markdown",
   "metadata": {},
   "source": [
    "# CSE-221710313019-K Sai Charan"
   ]
  },
  {
   "cell_type": "code",
   "execution_count": 1,
   "metadata": {},
   "outputs": [],
   "source": [
    "#list with nouns\n",
    "noun=[\"Man\",\"Teacher\",\"John\",\"Office\",\"America\",\"Car\",\"Banana\",\"Money\",\"Music\",\"Monkey\"]\n",
    "#list with verbs\n",
    "verb=[\"Run\",\"Dance\",\"Slide\",\"Jump\",\"Think\",\"Do\",\"Go\",\"Stand\",\"Smile\",\"Listen\"]"
   ]
  },
  {
   "cell_type": "code",
   "execution_count": 2,
   "metadata": {},
   "outputs": [
    {
     "name": "stdout",
     "output_type": "stream",
     "text": [
      "GoJohn847%\n",
      "Want another password?? enter Y or N\n",
      "Y\n",
      "JumpMusic494>\n",
      "Want another password?? enter Y or N\n",
      "Y\n",
      "DoCar358#\n",
      "Want another password?? enter Y or N\n",
      "Y\n",
      "StandJohn664@\n",
      "Want another password?? enter Y or N\n",
      "N\n"
     ]
    }
   ],
   "source": [
    "import random as r #importing random package to use randint and choice methods\n",
    "import string as s #importing string package to use punctuations(special characters)\n",
    "i=0\n",
    "while(i!=1):\n",
    "    st3=r.randint(1,1000)#selecting a random value from 1 to 1000\n",
    "    st2=r.choice(noun)#selecting a random word from list of nouns\n",
    "    st1=r.choice(verb)#selecting a random word from list of verbs\n",
    "    st4=r.choice(list(s.punctuation))#selecting a random special character\n",
    "    print(st1+st2+str(st3)+st4)#generating a  password by joing all selections\n",
    "    print(\"Want another password?? enter Y or N\")#asking user if he wants to generate one more password or not\n",
    "    n=input()\n",
    "    if(n=='N'):\n",
    "        i=1"
   ]
  }
 ],
 "metadata": {
  "kernelspec": {
   "display_name": "Python 3",
   "language": "python",
   "name": "python3"
  },
  "language_info": {
   "codemirror_mode": {
    "name": "ipython",
    "version": 3
   },
   "file_extension": ".py",
   "mimetype": "text/x-python",
   "name": "python",
   "nbconvert_exporter": "python",
   "pygments_lexer": "ipython3",
   "version": "3.7.3"
  }
 },
 "nbformat": 4,
 "nbformat_minor": 2
}
