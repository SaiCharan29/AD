{
 "cells": [
  {
   "cell_type": "code",
   "execution_count": 1,
   "metadata": {},
   "outputs": [
    {
     "name": "stdout",
     "output_type": "stream",
     "text": [
      "12\n",
      "Adam number\n"
     ]
    }
   ],
   "source": [
    "def adam(n):\n",
    "    print(\"Adam number\") if int(str(n**2)[::-1]) == int(str(n)[::-1])**2 else print(\"Not an Adam Number\")\n",
    "adam(int(input()))"
   ]
  },
  {
   "cell_type": "code",
   "execution_count": 57,
   "metadata": {},
   "outputs": [
    {
     "name": "stdout",
     "output_type": "stream",
     "text": [
      "Enter a number7\n",
      "5040\n"
     ]
    }
   ],
   "source": [
    "\n",
    "def fact(n):\n",
    "  if(n==1 or n==0):\n",
    "    return 1\n",
    "  else:\n",
    "    return n*fact(n-1)\n",
    "print(fact(int(input(\"Enter a number\"))))"
   ]
  },
  {
   "cell_type": "code",
   "execution_count": 58,
   "metadata": {},
   "outputs": [
    {
     "name": "stdout",
     "output_type": "stream",
     "text": [
      "6\n",
      "0 1 1 2 3 5 "
     ]
    }
   ],
   "source": [
    "def fib(n):\n",
    "  if(n<=1):\n",
    "    return n\n",
    "  else:\n",
    "    return fib(n-1)+fib(n-2)\n",
    "a=int(input())\n",
    "for i in range(a):\n",
    "  print(fib(i),end=\" \")"
   ]
  },
  {
   "cell_type": "code",
   "execution_count": 20,
   "metadata": {},
   "outputs": [
    {
     "name": "stdout",
     "output_type": "stream",
     "text": [
      "1 10\n",
      "1 2 3 4 5 6 7 8 9 10 0.001905679702758789\n"
     ]
    }
   ],
   "source": [
    "import time\n",
    "def display(l,u):\n",
    "    if(l>u):\n",
    "        return(u)\n",
    "    else:\n",
    "        print(l,end=\" \")\n",
    "        display(l+1,u)\n",
    "l,u=map(int,input().split())\n",
    "p=time.time()\n",
    "display(l,u)\n",
    "print(time.time()-p)"
   ]
  },
  {
   "cell_type": "code",
   "execution_count": 22,
   "metadata": {},
   "outputs": [
    {
     "name": "stdout",
     "output_type": "stream",
     "text": [
      "6 -76 67\n"
     ]
    }
   ],
   "source": [
    "li=[2,7,67,4,-76,56]\n",
    "print(len(li),min(li),max(li))"
   ]
  },
  {
   "cell_type": "code",
   "execution_count": 24,
   "metadata": {},
   "outputs": [
    {
     "name": "stdout",
     "output_type": "stream",
     "text": [
      "23\n"
     ]
    }
   ],
   "source": [
    "li=[1,2,6,32,12,[45,87,5,89,[4,23,4,12]]]\n",
    "print(li[5][4][1])"
   ]
  },
  {
   "cell_type": "code",
   "execution_count": 25,
   "metadata": {},
   "outputs": [
    {
     "data": {
      "text/plain": [
       "[1, 3, 2, 9, 0, 12, 67]"
      ]
     },
     "execution_count": 25,
     "metadata": {},
     "output_type": "execute_result"
    }
   ],
   "source": [
    "li=[1,3,2,9,0,12]\n",
    "li.append(67)\n",
    "li"
   ]
  },
  {
   "cell_type": "code",
   "execution_count": 26,
   "metadata": {},
   "outputs": [
    {
     "data": {
      "text/plain": [
       "[1, 3, 76, 2, 9, 0, 12, 67]"
      ]
     },
     "execution_count": 26,
     "metadata": {},
     "output_type": "execute_result"
    }
   ],
   "source": [
    "li.insert(2,76)\n",
    "li"
   ]
  },
  {
   "cell_type": "code",
   "execution_count": 27,
   "metadata": {},
   "outputs": [
    {
     "data": {
      "text/plain": [
       "[1, 3, 76, 2, 9, 12, 67]"
      ]
     },
     "execution_count": 27,
     "metadata": {},
     "output_type": "execute_result"
    }
   ],
   "source": [
    "li.pop(5)\n",
    "li"
   ]
  },
  {
   "cell_type": "code",
   "execution_count": 28,
   "metadata": {},
   "outputs": [
    {
     "name": "stdout",
     "output_type": "stream",
     "text": [
      "[1, 3, 76, 2, 9, 12, 67, 5, 3, 7, 1] [5, 3, 7, 1]\n"
     ]
    }
   ],
   "source": [
    "li1=[5,3,7,1]\n",
    "li.extend(li1)\n",
    "print(li,li1)"
   ]
  },
  {
   "cell_type": "code",
   "execution_count": 29,
   "metadata": {},
   "outputs": [
    {
     "data": {
      "text/plain": [
       "[1, 3, 76, 2, 9, 12, 67, 5, 3, 7, 1, 5, 3, 7, 1]"
      ]
     },
     "execution_count": 29,
     "metadata": {},
     "output_type": "execute_result"
    }
   ],
   "source": [
    "li+li1"
   ]
  },
  {
   "cell_type": "code",
   "execution_count": 30,
   "metadata": {},
   "outputs": [
    {
     "name": "stdout",
     "output_type": "stream",
     "text": [
      "[1, 3, 76, 2, 9, 12, 67, 5, 3, 7, 1] [5, 3, 7, 1]\n"
     ]
    }
   ],
   "source": [
    "print(li,li1)"
   ]
  },
  {
   "cell_type": "code",
   "execution_count": 32,
   "metadata": {},
   "outputs": [
    {
     "name": "stdout",
     "output_type": "stream",
     "text": [
      "[1, 3, 76, 2, 9, 12, 67, 5, 3]\n"
     ]
    }
   ],
   "source": [
    "li.pop()\n",
    "print(li)"
   ]
  },
  {
   "cell_type": "code",
   "execution_count": 33,
   "metadata": {},
   "outputs": [
    {
     "data": {
      "text/plain": [
       "[1, 3, 2, 9, 12, 67, 5, 3]"
      ]
     },
     "execution_count": 33,
     "metadata": {},
     "output_type": "execute_result"
    }
   ],
   "source": [
    "li.remove(76)\n",
    "li"
   ]
  },
  {
   "cell_type": "code",
   "execution_count": 35,
   "metadata": {},
   "outputs": [
    {
     "data": {
      "text/plain": [
       "[]"
      ]
     },
     "execution_count": 35,
     "metadata": {},
     "output_type": "execute_result"
    }
   ],
   "source": [
    "li.clear()\n",
    "li"
   ]
  },
  {
   "cell_type": "code",
   "execution_count": 48,
   "metadata": {},
   "outputs": [
    {
     "name": "stdout",
     "output_type": "stream",
     "text": [
      "[11, 23, 15, -7]\n"
     ]
    }
   ],
   "source": [
    "li1=[11,23,15,-7]\n",
    "print(li1)"
   ]
  },
  {
   "cell_type": "code",
   "execution_count": 49,
   "metadata": {},
   "outputs": [
    {
     "name": "stdout",
     "output_type": "stream",
     "text": [
      "[-7, 11, 15, 23]\n"
     ]
    }
   ],
   "source": [
    "li1.sort()\n",
    "print(li1)"
   ]
  },
  {
   "cell_type": "code",
   "execution_count": 50,
   "metadata": {},
   "outputs": [
    {
     "name": "stdout",
     "output_type": "stream",
     "text": [
      "[23, 15, 11, -7]\n"
     ]
    }
   ],
   "source": [
    "li1.reverse()\n",
    "print(li1)"
   ]
  },
  {
   "cell_type": "code",
   "execution_count": 52,
   "metadata": {},
   "outputs": [],
   "source": [
    "li1.append(11)"
   ]
  },
  {
   "cell_type": "code",
   "execution_count": 54,
   "metadata": {},
   "outputs": [
    {
     "name": "stdout",
     "output_type": "stream",
     "text": [
      "1\n",
      "2\n"
     ]
    }
   ],
   "source": [
    "print(li1.index(15))\n",
    "print(li1.count(11))"
   ]
  },
  {
   "cell_type": "code",
   "execution_count": 56,
   "metadata": {},
   "outputs": [
    {
     "name": "stdout",
     "output_type": "stream",
     "text": [
      "[23, 15, 11, -7, 11]\n"
     ]
    }
   ],
   "source": [
    "li=[]\n",
    "li=li1.copy()\n",
    "print(li)"
   ]
  },
  {
   "cell_type": "code",
   "execution_count": 59,
   "metadata": {},
   "outputs": [
    {
     "name": "stdout",
     "output_type": "stream",
     "text": [
      "lenght of list: 6\n",
      "6.6\n",
      "45\n",
      "['c', 'h', 'a', 'r', 'a', 'n']\n",
      "[12, 34, 45, 6, 'string', False, 6]\n",
      "[12, 34, 45, 6, 'string', False, 6, 7]\n",
      "[12, 34, 100, 45, 6, 'string', False, 6, 7]\n",
      "[12, 34, 100, 45, 6, 'string', False, 6, 7, 8, 9, 10]\n",
      "[12, 34, 100, 45, 6, 'string', False, 6, 7, 8, 9]\n"
     ]
    },
    {
     "data": {
      "text/plain": [
       "[]"
      ]
     },
     "execution_count": 59,
     "metadata": {},
     "output_type": "execute_result"
    }
   ],
   "source": [
    "list1 = [12,34,45,6,\"string\",False]\n",
    "list2 = [34,45,6.6,45]\n",
    "string = \"charan\"\n",
    "print(\"lenght of list:\",len(list1))\n",
    "print(min(list2))\n",
    "print(max(list2))\n",
    "print(list(string))\n",
    "list1.append(6)\n",
    "print(list1)\n",
    "list1.append(7)\n",
    "print(list1)\n",
    "list1.insert(2,100)\n",
    "print(list1)\n",
    "list1.extend([8,9,10])\n",
    "print(list1)\n",
    "list1.pop()\n",
    "print(list1)\n",
    "list1.remove(12)\n",
    "list1.clear()\n",
    "list1"
   ]
  },
  {
   "cell_type": "code",
   "execution_count": 61,
   "metadata": {},
   "outputs": [
    {
     "name": "stdout",
     "output_type": "stream",
     "text": [
      "[1, 2, 3, 4, 5, 6] [1, 2, 3, 4, 5, 6]\n",
      "[1, 2, 3, 4, 5, 6, 7] [1, 2, 3, 4, 5, 6, 7]\n"
     ]
    }
   ],
   "source": [
    "li=[1,2,3,4,5]\n",
    "li2=li\n",
    "li.append(6)\n",
    "print(li,li2)\n",
    "li2.append(7)\n",
    "print(li,li2)"
   ]
  },
  {
   "cell_type": "code",
   "execution_count": 66,
   "metadata": {},
   "outputs": [],
   "source": [
    "f=open(\"sample.txt\",\"w\")\n",
    "f.write(\"Hello!!\")\n",
    "f.close()"
   ]
  },
  {
   "cell_type": "code",
   "execution_count": 67,
   "metadata": {},
   "outputs": [
    {
     "name": "stdout",
     "output_type": "stream",
     "text": [
      "Hello!!\n"
     ]
    }
   ],
   "source": [
    "f=open(\"sample.txt\",\"r\")\n",
    "data=f.read()\n",
    "print(data)\n",
    "f.close()"
   ]
  },
  {
   "cell_type": "code",
   "execution_count": 68,
   "metadata": {},
   "outputs": [],
   "source": [
    "f=open(\"sample.txt\",\"a\")\n",
    "s=\"Welcome to jupyter!!\"\n",
    "f.write(s)\n",
    "f.close()"
   ]
  },
  {
   "cell_type": "code",
   "execution_count": 69,
   "metadata": {},
   "outputs": [
    {
     "name": "stdout",
     "output_type": "stream",
     "text": [
      "Hello!!Welcome to jupyter!!\n"
     ]
    }
   ],
   "source": [
    "f=open(\"sample.txt\",\"r\")\n",
    "data=f.read()\n",
    "print(data)\n",
    "f.close()"
   ]
  }
 ],
 "metadata": {
  "kernelspec": {
   "display_name": "Python 3",
   "language": "python",
   "name": "python3"
  },
  "language_info": {
   "codemirror_mode": {
    "name": "ipython",
    "version": 3
   },
   "file_extension": ".py",
   "mimetype": "text/x-python",
   "name": "python",
   "nbconvert_exporter": "python",
   "pygments_lexer": "ipython3",
   "version": "3.7.3"
  }
 },
 "nbformat": 4,
 "nbformat_minor": 2
}
